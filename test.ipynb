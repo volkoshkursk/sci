{
 "cells": [
  {
   "cell_type": "code",
   "execution_count": 3,
   "metadata": {
    "collapsed": true
   },
   "outputs": [],
   "source": [
    "from _lda import *\n",
    "from gen_clones import sort_docs, count_docs\n",
    "import NB"
   ]
  },
  {
   "cell_type": "heading",
   "metadata": {},
   "level": 1,
   "source": [
    "Импорт тестируемой библиотеки"
   ]
  },
  {
   "cell_type": "code",
   "execution_count": 4,
   "metadata": {},
   "outputs": [],
   "source": [
    "from gen_lda import run"
   ]
  },
  {
   "cell_type": "heading",
   "metadata": {},
   "level": 1,
   "source": [
    "подготовительные операции и оценка \"до\""
   ]
  },
  {
   "cell_type": "code",
   "execution_count": 7,
   "metadata": {
    "collapsed": false
   },
   "outputs": [
    {
     "name": "stderr",
     "output_type": "stream",
     "text": [
      "\r                                                                               \r\rN/A%|                                                                         |"
     ]
    },
    {
     "name": "stderr",
     "output_type": "stream",
     "text": [
      "\r                                                                               \r\r  1%|#                                                                        |"
     ]
    },
    {
     "name": "stderr",
     "output_type": "stream",
     "text": [
      "\r                                                                               \r\r  2%|##                                                                       |"
     ]
    },
    {
     "name": "stderr",
     "output_type": "stream",
     "text": [
      "\r                                                                               \r\r  4%|###                                                                      |"
     ]
    },
    {
     "name": "stderr",
     "output_type": "stream",
     "text": [
      "\r                                                                               \r\r  5%|###                                                                      |"
     ]
    },
    {
     "name": "stderr",
     "output_type": "stream",
     "text": [
      "\r                                                                               \r\r  6%|####                                                                     |"
     ]
    },
    {
     "name": "stderr",
     "output_type": "stream",
     "text": [
      "\r                                                                               \r\r  8%|#####                                                                    |"
     ]
    },
    {
     "name": "stderr",
     "output_type": "stream",
     "text": [
      "\r                                                                               \r\r  8%|######                                                                   |"
     ]
    },
    {
     "name": "stderr",
     "output_type": "stream",
     "text": [
      "\r                                                                               \r\r 10%|#######                                                                  |"
     ]
    },
    {
     "name": "stderr",
     "output_type": "stream",
     "text": [
      "\r                                                                               \r\r 11%|########                                                                 |"
     ]
    },
    {
     "name": "stderr",
     "output_type": "stream",
     "text": [
      "\r                                                                               \r\r 13%|#########                                                                |"
     ]
    },
    {
     "name": "stderr",
     "output_type": "stream",
     "text": [
      "\r                                                                               \r\r 14%|##########                                                               |"
     ]
    },
    {
     "name": "stderr",
     "output_type": "stream",
     "text": [
      "\r                                                                               \r\r 15%|###########                                                              |"
     ]
    },
    {
     "name": "stderr",
     "output_type": "stream",
     "text": [
      "\r                                                                               \r\r 17%|############                                                             |"
     ]
    },
    {
     "name": "stderr",
     "output_type": "stream",
     "text": [
      "\r                                                                               \r\r 17%|############                                                             |"
     ]
    },
    {
     "name": "stderr",
     "output_type": "stream",
     "text": [
      "\r                                                                               \r\r 19%|##############                                                           |"
     ]
    },
    {
     "name": "stderr",
     "output_type": "stream",
     "text": [
      "\r                                                                               \r\r 20%|###############                                                          |"
     ]
    },
    {
     "name": "stderr",
     "output_type": "stream",
     "text": [
      "\r                                                                               \r\r 22%|################                                                         |"
     ]
    },
    {
     "name": "stderr",
     "output_type": "stream",
     "text": [
      "\r                                                                               \r\r 22%|################                                                         |"
     ]
    },
    {
     "name": "stderr",
     "output_type": "stream",
     "text": [
      "\r                                                                               \r\r 24%|#################                                                        |"
     ]
    },
    {
     "name": "stderr",
     "output_type": "stream",
     "text": [
      "\r                                                                               \r\r 25%|##################                                                       |"
     ]
    },
    {
     "name": "stderr",
     "output_type": "stream",
     "text": [
      "\r                                                                               \r\r 26%|###################                                                      |"
     ]
    },
    {
     "name": "stderr",
     "output_type": "stream",
     "text": [
      "\r                                                                               \r\r 28%|####################                                                     |"
     ]
    },
    {
     "name": "stderr",
     "output_type": "stream",
     "text": [
      "\r                                                                               \r\r 29%|#####################                                                    |"
     ]
    },
    {
     "name": "stderr",
     "output_type": "stream",
     "text": [
      "\r                                                                               \r\r 31%|######################                                                   |"
     ]
    },
    {
     "name": "stderr",
     "output_type": "stream",
     "text": [
      "\r                                                                               \r\r 31%|#######################                                                  |"
     ]
    },
    {
     "name": "stderr",
     "output_type": "stream",
     "text": [
      "\r                                                                               \r\r 33%|########################                                                 |"
     ]
    },
    {
     "name": "stderr",
     "output_type": "stream",
     "text": [
      "\r                                                                               \r\r 34%|#########################                                                |"
     ]
    },
    {
     "name": "stderr",
     "output_type": "stream",
     "text": [
      "\r                                                                               \r\r 35%|#########################                                                |"
     ]
    },
    {
     "name": "stderr",
     "output_type": "stream",
     "text": [
      "\r                                                                               \r\r 37%|###########################                                              |"
     ]
    },
    {
     "name": "stderr",
     "output_type": "stream",
     "text": [
      "\r                                                                               \r\r 38%|############################                                             |"
     ]
    },
    {
     "name": "stderr",
     "output_type": "stream",
     "text": [
      "\r                                                                               \r\r 39%|############################                                             |"
     ]
    },
    {
     "name": "stderr",
     "output_type": "stream",
     "text": [
      "\r                                                                               \r\r 40%|#############################                                            |"
     ]
    },
    {
     "name": "stderr",
     "output_type": "stream",
     "text": [
      "\r                                                                               \r\r 42%|##############################                                           |"
     ]
    },
    {
     "name": "stderr",
     "output_type": "stream",
     "text": [
      "\r                                                                               \r\r 43%|###############################                                          |"
     ]
    },
    {
     "name": "stderr",
     "output_type": "stream",
     "text": [
      "\r                                                                               \r\r 44%|################################                                         |"
     ]
    },
    {
     "name": "stderr",
     "output_type": "stream",
     "text": [
      "\r                                                                               \r\r 45%|#################################                                        |"
     ]
    },
    {
     "name": "stderr",
     "output_type": "stream",
     "text": [
      "\r                                                                               \r\r 47%|##################################                                       |"
     ]
    },
    {
     "name": "stderr",
     "output_type": "stream",
     "text": [
      "\r                                                                               \r\r 48%|###################################                                      |"
     ]
    },
    {
     "name": "stderr",
     "output_type": "stream",
     "text": [
      "\r                                                                               \r\r 49%|####################################                                     |"
     ]
    },
    {
     "name": "stderr",
     "output_type": "stream",
     "text": [
      "\r                                                                               \r\r 51%|#####################################                                    |"
     ]
    },
    {
     "name": "stderr",
     "output_type": "stream",
     "text": [
      "\r                                                                               \r\r 52%|######################################                                   |"
     ]
    },
    {
     "name": "stderr",
     "output_type": "stream",
     "text": [
      "\r                                                                               \r\r 53%|######################################                                   |"
     ]
    },
    {
     "name": "stderr",
     "output_type": "stream",
     "text": [
      "\r                                                                               \r\r 54%|########################################                                 |"
     ]
    },
    {
     "name": "stderr",
     "output_type": "stream",
     "text": [
      "\r                                                                               \r\r 56%|#########################################                                |"
     ]
    },
    {
     "name": "stderr",
     "output_type": "stream",
     "text": [
      "\r                                                                               \r\r 57%|#########################################                                |"
     ]
    },
    {
     "name": "stderr",
     "output_type": "stream",
     "text": [
      "\r                                                                               \r\r 58%|##########################################                               |"
     ]
    },
    {
     "name": "stderr",
     "output_type": "stream",
     "text": [
      "\r                                                                               \r\r 60%|###########################################                              |"
     ]
    },
    {
     "name": "stderr",
     "output_type": "stream",
     "text": [
      "\r                                                                               \r\r 61%|############################################                             |"
     ]
    },
    {
     "name": "stderr",
     "output_type": "stream",
     "text": [
      "\r                                                                               \r\r 62%|#############################################                            |"
     ]
    },
    {
     "name": "stderr",
     "output_type": "stream",
     "text": [
      "\r                                                                               \r\r 63%|##############################################                           |"
     ]
    },
    {
     "name": "stderr",
     "output_type": "stream",
     "text": [
      "\r                                                                               \r\r 65%|###############################################                          |"
     ]
    },
    {
     "name": "stderr",
     "output_type": "stream",
     "text": [
      "\r                                                                               \r\r 65%|################################################                         |"
     ]
    },
    {
     "name": "stderr",
     "output_type": "stream",
     "text": [
      "\r                                                                               \r\r 67%|#################################################                        |"
     ]
    },
    {
     "name": "stderr",
     "output_type": "stream",
     "text": [
      "\r                                                                               \r\r 68%|##################################################                       |"
     ]
    },
    {
     "name": "stderr",
     "output_type": "stream",
     "text": [
      "\r                                                                               \r\r 69%|##################################################                       |"
     ]
    },
    {
     "name": "stderr",
     "output_type": "stream",
     "text": [
      "\r                                                                               \r\r 71%|###################################################                      |"
     ]
    },
    {
     "name": "stderr",
     "output_type": "stream",
     "text": [
      "\r                                                                               \r\r 72%|####################################################                     |"
     ]
    },
    {
     "name": "stderr",
     "output_type": "stream",
     "text": [
      "\r                                                                               \r\r 74%|######################################################                   |"
     ]
    },
    {
     "name": "stderr",
     "output_type": "stream",
     "text": [
      "\r                                                                               \r\r 74%|######################################################                   |"
     ]
    },
    {
     "name": "stderr",
     "output_type": "stream",
     "text": [
      "\r                                                                               \r\r 76%|#######################################################                  |"
     ]
    },
    {
     "name": "stderr",
     "output_type": "stream",
     "text": [
      "\r                                                                               \r\r 77%|########################################################                 |"
     ]
    },
    {
     "name": "stderr",
     "output_type": "stream",
     "text": [
      "\r                                                                               \r\r 78%|#########################################################                |"
     ]
    },
    {
     "name": "stderr",
     "output_type": "stream",
     "text": [
      "\r                                                                               \r\r 80%|##########################################################               |"
     ]
    },
    {
     "name": "stderr",
     "output_type": "stream",
     "text": [
      "\r                                                                               \r\r 81%|###########################################################              |"
     ]
    },
    {
     "name": "stderr",
     "output_type": "stream",
     "text": [
      "\r                                                                               \r\r 82%|############################################################             |"
     ]
    },
    {
     "name": "stderr",
     "output_type": "stream",
     "text": [
      "\r                                                                               \r\r 83%|#############################################################            |"
     ]
    },
    {
     "name": "stderr",
     "output_type": "stream",
     "text": [
      "\r                                                                               \r\r 85%|##############################################################           |"
     ]
    },
    {
     "name": "stderr",
     "output_type": "stream",
     "text": [
      "\r                                                                               \r\r 86%|###############################################################          |"
     ]
    },
    {
     "name": "stderr",
     "output_type": "stream",
     "text": [
      "\r                                                                               \r\r 87%|###############################################################          |"
     ]
    },
    {
     "name": "stderr",
     "output_type": "stream",
     "text": [
      "\r                                                                               \r\r 88%|################################################################         |"
     ]
    },
    {
     "name": "stderr",
     "output_type": "stream",
     "text": [
      "\r                                                                               \r\r 90%|#################################################################        |"
     ]
    },
    {
     "name": "stderr",
     "output_type": "stream",
     "text": [
      "\r                                                                               \r\r 91%|###################################################################      |"
     ]
    },
    {
     "name": "stderr",
     "output_type": "stream",
     "text": [
      "\r                                                                               \r\r 92%|###################################################################      |"
     ]
    },
    {
     "name": "stderr",
     "output_type": "stream",
     "text": [
      "\r                                                                               \r\r 94%|####################################################################     |"
     ]
    },
    {
     "name": "stderr",
     "output_type": "stream",
     "text": [
      "\r                                                                               \r\r 95%|#####################################################################    |"
     ]
    },
    {
     "name": "stderr",
     "output_type": "stream",
     "text": [
      "\r                                                                               \r\r 96%|######################################################################   |"
     ]
    },
    {
     "name": "stderr",
     "output_type": "stream",
     "text": [
      "\r                                                                               \r\r 97%|#######################################################################  |"
     ]
    },
    {
     "name": "stderr",
     "output_type": "stream",
     "text": [
      "\r                                                                               \r\r 99%|######################################################################## |"
     ]
    },
    {
     "name": "stderr",
     "output_type": "stream",
     "text": [
      "\r                                                                               \r\r100%|#########################################################################|"
     ]
    },
    {
     "name": "stderr",
     "output_type": "stream",
     "text": [
      "\n"
     ]
    },
    {
     "name": "stdout",
     "output_type": "stream",
     "text": [
      "Наивный Байесовский классификатор (до): "
     ]
    },
    {
     "name": "stdout",
     "output_type": "stream",
     "text": [
      "0.7590149516270889\nклассификатор на основе Online LDA: "
     ]
    },
    {
     "name": "stdout",
     "output_type": "stream",
     "text": [
      "(0.2748565965583174, 0.4060734463276836, 0.0234391047277822, 0.01562743167697448)\nдлины классов до: "
     ]
    },
    {
     "name": "stdout",
     "output_type": "stream",
     "text": [
      "[('earn', 3616), ('acq', 2180), ('money-fx', 718), ('crude', 572), ('grain', 568), ('trade', 487), ('interest', 468), ('wheat', 277), ('ship', 265), ('corn', 235), ('dlr', 196), ('oilseed', 177), ('money-supply', 174), ('sugar', 170), ('gnp', 144), ('coffee', 134), ('veg-oil', 129), ('gold', 127), ('nat-gas', 120), ('soybean', 111), ('bop', 105), ('livestock', 103), ('cpi', 100), ('reserves', 78), ('copper', 71), ('jobs', 70), ('carcass', 68), ('cocoa', 66), ('yen', 61), ('gas', 59), ('ipi', 58), ('rice', 58), ('cotton', 57), ('iron-steel', 57), ('alum', 54), ('barley', 51), ('meal-feed', 51), ('rubber', 46), ('zinc', 43), ('palm-oil', 42), ('pet-chem', 37), ('silver', 34), ('lead', 34), ('rapeseed', 34), ('sorghum', 33), ('wpi', 31), ('strategic-metal', 29), ('tin', 29), ('soy-meal', 27), ('hog', 26), ('retail', 25), ('orange', 25), ('fuel', 24), ('soy-oil', 24), ('heat', 24), ('housing', 22), ('stg', 20), ('income', 19), ('lei', 17), ('sunseed', 17), ('lumber', 17), ('dmk', 16), ('tea', 14), ('oat', 14), ('platinum', 13), ('nickel', 12), ('l-cattle', 9), ('rape-oil', 9), ('sun-oil', 9), ('groundnut', 9), ('naphtha', 8), ('jet', 8), ('inventories', 7), ('coconut', 7), ('coconut-oil', 7), ('instal-debt', 6), ('propane', 6), ('pork-belly', 5), ('tapioca', 5), ('saudriyal', 4), ('potato', 4), ('palmkernel', 4), ('f-cattle', 4), ('lit', 4), ('palladium', 4), ('austdlr', 4), ('plywood', 4), ('sfr', 4), ('cotton-oil', 4), ('rand', 4), ('nkr', 4), ('dfl', 4), ('copra-cake', 4), ('nzdlr', 3), ('cornglutenfeed', 3), ('linseed', 3), ('rye', 3), ('groundnut-oil', 3), ('cpu', 3), ('can', 3), ('fishmeal', 3), ('wool', 3), ('lin-oil', 3), ('castor-oil', 3), ('sun-meal', 3), ('peseta', 2), ('bfr', 2), ('citruspulp', 2), ('skr', 2), ('cottonseed', 2), ('castorseed', 2), ('red-bean', 2), ('rape-meal', 2), ('hk', 2), ('dkr', 2), ('lin-meal', 2), ('cruzado', 2), ('corn-oil', 2), ('rupiah', 2)]\n"
     ]
    }
   ],
   "source": [
    "num_words = 10\n",
    "conn = sqlite3.connect('collection_full.db')\n",
    "groupname = ['exchanges', 'orgs', 'people', 'places', 'topics_array']\n",
    "cursor = conn.cursor()\n",
    "num = 4\n",
    "cat = get_collection_categories('reuters21578.tar')\n",
    "C = dict.fromkeys(cat[num])\n",
    "for i in cat[num]:\n",
    "    cursor.execute(\n",
    "        \"select word from \" + groupname[num] +\n",
    "        \" where classname== '\" + i + \"' order by mi desc limit \" + str(num_words))\n",
    "    C[i] = list(map(lambda x: x[0], cursor.fetchall()))\n",
    "cursor.execute(\"select * from inp where inp.\" + groupname[num] + \"!= 'None' \")\n",
    "ddict = []\n",
    "for i in list(C.values()):\n",
    "    ddict.extend(i)\n",
    "D = decode_from_db(cursor.fetchall(), cat)\n",
    "\n",
    "# themes = dict(sorted(sort_docs(cat[num], D).items(), key=lambda kv: -len(kv[1])))\n",
    "\n",
    "cursor.execute(\"select * from inp \")\n",
    "all_docs = decode_from_db(cursor.fetchall(), cat)\n",
    "\n",
    "# создаём тестовое множество\n",
    "cursor.execute(\"select * from test where test.\" + groupname[num] + \"!= 'None'\")\n",
    "test = decode_from_db(cursor.fetchall(), cat)\n",
    "\n",
    "clf_1 = NB.naive_Bayes(C)\n",
    "train = NB.convert_sgml(D)\n",
    "clf_1.fit(train[0], train[1])\n",
    "print('Наивный Байесовский классификатор (до):', end=' ')\n",
    "print(estimate_single(clf_1.predict(test), test))\n",
    "# классификатор на основе Online LDA (без балансировки)\n",
    "print('классификатор на основе Online LDA:', end=' ')\n",
    "print(estimate(online_lda_clf(ddict, D, all_docs, test), test))\n",
    "print('длины классов до:', end=' ')\n",
    "print(sorted(count_docs(cat[num], D).items(), key=lambda kv: -kv[1]))\n",
    "max_len = max(map(lambda x: len(x), sort_docs(cat[num], D).values()))"
   ]
  },
  {
   "cell_type": "heading",
   "metadata": {},
   "level": 1,
   "source": [
    "балансировка (во всех скриптах одинаковый интерфейс)"
   ]
  },
  {
   "cell_type": "code",
   "execution_count": 8,
   "metadata": {
    "collapsed": false
   },
   "outputs": [
    {
     "name": "stdout",
     "output_type": "stream",
     "text": [
      "@ "
     ]
    },
    {
     "name": "stdout",
     "output_type": "stream",
     "text": [
      "@ "
     ]
    },
    {
     "name": "stdout",
     "output_type": "stream",
     "text": [
      "@ "
     ]
    },
    {
     "name": "stdout",
     "output_type": "stream",
     "text": [
      "@ "
     ]
    },
    {
     "name": "stdout",
     "output_type": "stream",
     "text": [
      "@ "
     ]
    },
    {
     "name": "stdout",
     "output_type": "stream",
     "text": [
      "@ "
     ]
    },
    {
     "name": "stdout",
     "output_type": "stream",
     "text": [
      "@ "
     ]
    },
    {
     "name": "stdout",
     "output_type": "stream",
     "text": [
      "@ "
     ]
    },
    {
     "name": "stdout",
     "output_type": "stream",
     "text": [
      "@ "
     ]
    },
    {
     "name": "stdout",
     "output_type": "stream",
     "text": [
      "@ "
     ]
    },
    {
     "name": "stdout",
     "output_type": "stream",
     "text": [
      "@ "
     ]
    },
    {
     "name": "stdout",
     "output_type": "stream",
     "text": [
      "@ "
     ]
    },
    {
     "name": "stdout",
     "output_type": "stream",
     "text": [
      "@ "
     ]
    },
    {
     "name": "stdout",
     "output_type": "stream",
     "text": [
      "@ "
     ]
    },
    {
     "name": "stdout",
     "output_type": "stream",
     "text": [
      "@ "
     ]
    },
    {
     "name": "stdout",
     "output_type": "stream",
     "text": [
      "@ "
     ]
    },
    {
     "name": "stdout",
     "output_type": "stream",
     "text": [
      "@ "
     ]
    },
    {
     "name": "stdout",
     "output_type": "stream",
     "text": [
      "@ "
     ]
    },
    {
     "name": "stdout",
     "output_type": "stream",
     "text": [
      "@ "
     ]
    },
    {
     "name": "stdout",
     "output_type": "stream",
     "text": [
      "@ "
     ]
    },
    {
     "name": "stdout",
     "output_type": "stream",
     "text": [
      "@ "
     ]
    },
    {
     "name": "stdout",
     "output_type": "stream",
     "text": [
      "@ "
     ]
    },
    {
     "name": "stdout",
     "output_type": "stream",
     "text": [
      "@ "
     ]
    },
    {
     "name": "stdout",
     "output_type": "stream",
     "text": [
      "@ "
     ]
    },
    {
     "name": "stdout",
     "output_type": "stream",
     "text": [
      "@ "
     ]
    },
    {
     "name": "stdout",
     "output_type": "stream",
     "text": [
      "@ "
     ]
    },
    {
     "name": "stdout",
     "output_type": "stream",
     "text": [
      "@ "
     ]
    },
    {
     "name": "stdout",
     "output_type": "stream",
     "text": [
      "@ "
     ]
    },
    {
     "name": "stdout",
     "output_type": "stream",
     "text": [
      "@ "
     ]
    },
    {
     "name": "stdout",
     "output_type": "stream",
     "text": [
      "@ "
     ]
    },
    {
     "name": "stdout",
     "output_type": "stream",
     "text": [
      "@ "
     ]
    },
    {
     "name": "stdout",
     "output_type": "stream",
     "text": [
      "@ "
     ]
    },
    {
     "name": "stdout",
     "output_type": "stream",
     "text": [
      "@ "
     ]
    },
    {
     "name": "stdout",
     "output_type": "stream",
     "text": [
      "@ "
     ]
    },
    {
     "name": "stdout",
     "output_type": "stream",
     "text": [
      "@ "
     ]
    },
    {
     "name": "stdout",
     "output_type": "stream",
     "text": [
      "@ "
     ]
    },
    {
     "name": "stdout",
     "output_type": "stream",
     "text": [
      "@ "
     ]
    },
    {
     "name": "stdout",
     "output_type": "stream",
     "text": [
      "@ "
     ]
    },
    {
     "name": "stdout",
     "output_type": "stream",
     "text": [
      "@ "
     ]
    },
    {
     "name": "stdout",
     "output_type": "stream",
     "text": [
      "@ "
     ]
    },
    {
     "name": "stdout",
     "output_type": "stream",
     "text": [
      "@ "
     ]
    },
    {
     "name": "stdout",
     "output_type": "stream",
     "text": [
      "@ "
     ]
    },
    {
     "name": "stdout",
     "output_type": "stream",
     "text": [
      "@ "
     ]
    },
    {
     "name": "stdout",
     "output_type": "stream",
     "text": [
      "@ "
     ]
    },
    {
     "name": "stdout",
     "output_type": "stream",
     "text": [
      "@ "
     ]
    },
    {
     "name": "stdout",
     "output_type": "stream",
     "text": [
      "@ "
     ]
    },
    {
     "name": "stdout",
     "output_type": "stream",
     "text": [
      "@ "
     ]
    },
    {
     "name": "stdout",
     "output_type": "stream",
     "text": [
      "@ "
     ]
    },
    {
     "name": "stdout",
     "output_type": "stream",
     "text": [
      "@ "
     ]
    },
    {
     "name": "stdout",
     "output_type": "stream",
     "text": [
      "@ "
     ]
    },
    {
     "name": "stdout",
     "output_type": "stream",
     "text": [
      "@ "
     ]
    },
    {
     "name": "stdout",
     "output_type": "stream",
     "text": [
      "@ "
     ]
    },
    {
     "name": "stdout",
     "output_type": "stream",
     "text": [
      "@ "
     ]
    },
    {
     "name": "stdout",
     "output_type": "stream",
     "text": [
      "@ "
     ]
    },
    {
     "name": "stdout",
     "output_type": "stream",
     "text": [
      "@ "
     ]
    },
    {
     "name": "stdout",
     "output_type": "stream",
     "text": [
      "@ "
     ]
    },
    {
     "name": "stdout",
     "output_type": "stream",
     "text": [
      "@ "
     ]
    },
    {
     "name": "stdout",
     "output_type": "stream",
     "text": [
      "@ "
     ]
    },
    {
     "name": "stdout",
     "output_type": "stream",
     "text": [
      "@ "
     ]
    },
    {
     "name": "stdout",
     "output_type": "stream",
     "text": [
      "@ "
     ]
    },
    {
     "name": "stdout",
     "output_type": "stream",
     "text": [
      "@ "
     ]
    },
    {
     "name": "stdout",
     "output_type": "stream",
     "text": [
      "@ "
     ]
    },
    {
     "name": "stdout",
     "output_type": "stream",
     "text": [
      "@ "
     ]
    },
    {
     "name": "stdout",
     "output_type": "stream",
     "text": [
      "@ "
     ]
    },
    {
     "name": "stdout",
     "output_type": "stream",
     "text": [
      "@ "
     ]
    },
    {
     "name": "stdout",
     "output_type": "stream",
     "text": [
      "@ "
     ]
    },
    {
     "name": "stdout",
     "output_type": "stream",
     "text": [
      "@ "
     ]
    },
    {
     "name": "stdout",
     "output_type": "stream",
     "text": [
      "@ "
     ]
    },
    {
     "name": "stdout",
     "output_type": "stream",
     "text": [
      "@ "
     ]
    },
    {
     "name": "stdout",
     "output_type": "stream",
     "text": [
      "@ "
     ]
    },
    {
     "name": "stdout",
     "output_type": "stream",
     "text": [
      "@ "
     ]
    },
    {
     "name": "stdout",
     "output_type": "stream",
     "text": [
      "@ "
     ]
    },
    {
     "name": "stdout",
     "output_type": "stream",
     "text": [
      "@ "
     ]
    },
    {
     "name": "stdout",
     "output_type": "stream",
     "text": [
      "@ "
     ]
    },
    {
     "name": "stdout",
     "output_type": "stream",
     "text": [
      "@ "
     ]
    },
    {
     "name": "stdout",
     "output_type": "stream",
     "text": [
      "@ "
     ]
    },
    {
     "name": "stdout",
     "output_type": "stream",
     "text": [
      "@ "
     ]
    },
    {
     "name": "stdout",
     "output_type": "stream",
     "text": [
      "@ "
     ]
    },
    {
     "name": "stdout",
     "output_type": "stream",
     "text": [
      "@ "
     ]
    },
    {
     "name": "stdout",
     "output_type": "stream",
     "text": [
      "@ "
     ]
    },
    {
     "name": "stdout",
     "output_type": "stream",
     "text": [
      "@ "
     ]
    },
    {
     "name": "stdout",
     "output_type": "stream",
     "text": [
      "@ "
     ]
    },
    {
     "name": "stdout",
     "output_type": "stream",
     "text": [
      "@ "
     ]
    },
    {
     "name": "stdout",
     "output_type": "stream",
     "text": [
      "@ "
     ]
    },
    {
     "name": "stdout",
     "output_type": "stream",
     "text": [
      "@ "
     ]
    },
    {
     "name": "stdout",
     "output_type": "stream",
     "text": [
      "@ "
     ]
    },
    {
     "name": "stdout",
     "output_type": "stream",
     "text": [
      "@ "
     ]
    },
    {
     "name": "stdout",
     "output_type": "stream",
     "text": [
      "@ "
     ]
    },
    {
     "name": "stdout",
     "output_type": "stream",
     "text": [
      "@ "
     ]
    },
    {
     "name": "stdout",
     "output_type": "stream",
     "text": [
      "@ "
     ]
    },
    {
     "name": "stdout",
     "output_type": "stream",
     "text": [
      "@ "
     ]
    },
    {
     "name": "stdout",
     "output_type": "stream",
     "text": [
      "@ "
     ]
    },
    {
     "name": "stdout",
     "output_type": "stream",
     "text": [
      "@ "
     ]
    },
    {
     "name": "stdout",
     "output_type": "stream",
     "text": [
      "@ "
     ]
    },
    {
     "name": "stdout",
     "output_type": "stream",
     "text": [
      "@ "
     ]
    },
    {
     "name": "stdout",
     "output_type": "stream",
     "text": [
      "@ "
     ]
    },
    {
     "name": "stdout",
     "output_type": "stream",
     "text": [
      "@ "
     ]
    },
    {
     "name": "stdout",
     "output_type": "stream",
     "text": [
      "@ "
     ]
    },
    {
     "name": "stdout",
     "output_type": "stream",
     "text": [
      "@ "
     ]
    },
    {
     "name": "stdout",
     "output_type": "stream",
     "text": [
      "@ "
     ]
    },
    {
     "name": "stdout",
     "output_type": "stream",
     "text": [
      "@ "
     ]
    },
    {
     "name": "stdout",
     "output_type": "stream",
     "text": [
      "@ "
     ]
    },
    {
     "name": "stdout",
     "output_type": "stream",
     "text": [
      "@ "
     ]
    },
    {
     "name": "stdout",
     "output_type": "stream",
     "text": [
      "@ "
     ]
    },
    {
     "name": "stdout",
     "output_type": "stream",
     "text": [
      "@ "
     ]
    },
    {
     "name": "stdout",
     "output_type": "stream",
     "text": [
      "@ "
     ]
    },
    {
     "name": "stdout",
     "output_type": "stream",
     "text": [
      "@ "
     ]
    },
    {
     "name": "stdout",
     "output_type": "stream",
     "text": [
      "@ "
     ]
    },
    {
     "name": "stdout",
     "output_type": "stream",
     "text": [
      "@ "
     ]
    },
    {
     "name": "stdout",
     "output_type": "stream",
     "text": [
      "@ "
     ]
    },
    {
     "name": "stdout",
     "output_type": "stream",
     "text": [
      "@ "
     ]
    },
    {
     "name": "stdout",
     "output_type": "stream",
     "text": [
      "@ "
     ]
    },
    {
     "name": "stdout",
     "output_type": "stream",
     "text": [
      "@ "
     ]
    },
    {
     "name": "stdout",
     "output_type": "stream",
     "text": [
      "@ "
     ]
    },
    {
     "name": "stdout",
     "output_type": "stream",
     "text": [
      "@ "
     ]
    },
    {
     "name": "stdout",
     "output_type": "stream",
     "text": [
      "@ "
     ]
    },
    {
     "name": "stdout",
     "output_type": "stream",
     "text": [
      "@ "
     ]
    },
    {
     "name": "stdout",
     "output_type": "stream",
     "text": [
      "@ "
     ]
    },
    {
     "name": "stdout",
     "output_type": "stream",
     "text": [
      "@ "
     ]
    },
    {
     "name": "stdout",
     "output_type": "stream",
     "text": [
      "@ "
     ]
    },
    {
     "name": "stdout",
     "output_type": "stream",
     "text": [
      "@ "
     ]
    },
    {
     "name": "stdout",
     "output_type": "stream",
     "text": [
      "@ "
     ]
    },
    {
     "name": "stdout",
     "output_type": "stream",
     "text": [
      "@ "
     ]
    },
    {
     "name": "stdout",
     "output_type": "stream",
     "text": [
      "@ "
     ]
    },
    {
     "name": "stdout",
     "output_type": "stream",
     "text": [
      "@ "
     ]
    },
    {
     "name": "stdout",
     "output_type": "stream",
     "text": [
      "@ "
     ]
    },
    {
     "name": "stdout",
     "output_type": "stream",
     "text": [
      "@ "
     ]
    },
    {
     "name": "stdout",
     "output_type": "stream",
     "text": [
      "@ "
     ]
    },
    {
     "name": "stdout",
     "output_type": "stream",
     "text": [
      "@ "
     ]
    },
    {
     "name": "stdout",
     "output_type": "stream",
     "text": [
      "@ "
     ]
    },
    {
     "name": "stdout",
     "output_type": "stream",
     "text": [
      "@ "
     ]
    },
    {
     "name": "stdout",
     "output_type": "stream",
     "text": [
      "@ "
     ]
    },
    {
     "name": "stdout",
     "output_type": "stream",
     "text": [
      "@ "
     ]
    },
    {
     "name": "stdout",
     "output_type": "stream",
     "text": [
      "@ "
     ]
    },
    {
     "name": "stdout",
     "output_type": "stream",
     "text": [
      "@ "
     ]
    },
    {
     "name": "stdout",
     "output_type": "stream",
     "text": [
      "@ "
     ]
    },
    {
     "name": "stdout",
     "output_type": "stream",
     "text": [
      "@ "
     ]
    },
    {
     "name": "stdout",
     "output_type": "stream",
     "text": [
      "@ "
     ]
    },
    {
     "name": "stdout",
     "output_type": "stream",
     "text": [
      "@ "
     ]
    },
    {
     "name": "stdout",
     "output_type": "stream",
     "text": [
      "@ "
     ]
    },
    {
     "name": "stdout",
     "output_type": "stream",
     "text": [
      "@ "
     ]
    },
    {
     "name": "stdout",
     "output_type": "stream",
     "text": [
      "@ "
     ]
    },
    {
     "name": "stdout",
     "output_type": "stream",
     "text": [
      "@ "
     ]
    },
    {
     "name": "stdout",
     "output_type": "stream",
     "text": [
      "@ "
     ]
    },
    {
     "name": "stdout",
     "output_type": "stream",
     "text": [
      "@ "
     ]
    },
    {
     "name": "stdout",
     "output_type": "stream",
     "text": [
      "@ "
     ]
    },
    {
     "name": "stdout",
     "output_type": "stream",
     "text": [
      "@ "
     ]
    },
    {
     "name": "stdout",
     "output_type": "stream",
     "text": [
      "@ "
     ]
    },
    {
     "name": "stdout",
     "output_type": "stream",
     "text": [
      "@ "
     ]
    },
    {
     "name": "stdout",
     "output_type": "stream",
     "text": [
      "@ "
     ]
    },
    {
     "name": "stdout",
     "output_type": "stream",
     "text": [
      "@ "
     ]
    },
    {
     "name": "stdout",
     "output_type": "stream",
     "text": [
      "@ "
     ]
    },
    {
     "name": "stdout",
     "output_type": "stream",
     "text": [
      "@ "
     ]
    },
    {
     "name": "stdout",
     "output_type": "stream",
     "text": [
      "@ "
     ]
    },
    {
     "name": "stdout",
     "output_type": "stream",
     "text": [
      "@ "
     ]
    },
    {
     "name": "stdout",
     "output_type": "stream",
     "text": [
      "@ "
     ]
    },
    {
     "name": "stdout",
     "output_type": "stream",
     "text": [
      "@ "
     ]
    },
    {
     "name": "stdout",
     "output_type": "stream",
     "text": [
      "@ "
     ]
    },
    {
     "name": "stdout",
     "output_type": "stream",
     "text": [
      "@ "
     ]
    },
    {
     "name": "stdout",
     "output_type": "stream",
     "text": [
      "@ "
     ]
    },
    {
     "name": "stdout",
     "output_type": "stream",
     "text": [
      "@ "
     ]
    },
    {
     "name": "stdout",
     "output_type": "stream",
     "text": [
      "@ "
     ]
    },
    {
     "name": "stdout",
     "output_type": "stream",
     "text": [
      "@ "
     ]
    },
    {
     "name": "stdout",
     "output_type": "stream",
     "text": [
      "@ "
     ]
    },
    {
     "name": "stdout",
     "output_type": "stream",
     "text": [
      "@ "
     ]
    },
    {
     "name": "stdout",
     "output_type": "stream",
     "text": [
      "@ "
     ]
    },
    {
     "name": "stdout",
     "output_type": "stream",
     "text": [
      "@ "
     ]
    },
    {
     "name": "stdout",
     "output_type": "stream",
     "text": [
      "@ "
     ]
    },
    {
     "name": "stdout",
     "output_type": "stream",
     "text": [
      "@ "
     ]
    },
    {
     "name": "stdout",
     "output_type": "stream",
     "text": [
      "@ "
     ]
    },
    {
     "name": "stdout",
     "output_type": "stream",
     "text": [
      "@ "
     ]
    },
    {
     "name": "stdout",
     "output_type": "stream",
     "text": [
      "@ "
     ]
    },
    {
     "name": "stdout",
     "output_type": "stream",
     "text": [
      "@ "
     ]
    },
    {
     "name": "stdout",
     "output_type": "stream",
     "text": [
      "@ "
     ]
    },
    {
     "name": "stdout",
     "output_type": "stream",
     "text": [
      "@ "
     ]
    },
    {
     "name": "stdout",
     "output_type": "stream",
     "text": [
      "@ "
     ]
    },
    {
     "name": "stdout",
     "output_type": "stream",
     "text": [
      "@ "
     ]
    },
    {
     "name": "stdout",
     "output_type": "stream",
     "text": [
      "@ "
     ]
    },
    {
     "name": "stdout",
     "output_type": "stream",
     "text": [
      "@ "
     ]
    },
    {
     "name": "stdout",
     "output_type": "stream",
     "text": [
      "@ "
     ]
    },
    {
     "name": "stdout",
     "output_type": "stream",
     "text": [
      "@ "
     ]
    },
    {
     "name": "stdout",
     "output_type": "stream",
     "text": [
      "@ "
     ]
    },
    {
     "name": "stdout",
     "output_type": "stream",
     "text": [
      "@ "
     ]
    },
    {
     "name": "stdout",
     "output_type": "stream",
     "text": [
      "@ "
     ]
    },
    {
     "name": "stdout",
     "output_type": "stream",
     "text": [
      "@ "
     ]
    },
    {
     "name": "stdout",
     "output_type": "stream",
     "text": [
      "@ "
     ]
    },
    {
     "name": "stdout",
     "output_type": "stream",
     "text": [
      "@ "
     ]
    },
    {
     "name": "stdout",
     "output_type": "stream",
     "text": [
      "@ "
     ]
    },
    {
     "name": "stdout",
     "output_type": "stream",
     "text": [
      "@ "
     ]
    },
    {
     "name": "stdout",
     "output_type": "stream",
     "text": [
      "@ "
     ]
    },
    {
     "name": "stdout",
     "output_type": "stream",
     "text": [
      "@ "
     ]
    },
    {
     "name": "stdout",
     "output_type": "stream",
     "text": [
      "@ "
     ]
    },
    {
     "name": "stdout",
     "output_type": "stream",
     "text": [
      "@ "
     ]
    },
    {
     "name": "stdout",
     "output_type": "stream",
     "text": [
      "@ "
     ]
    },
    {
     "name": "stdout",
     "output_type": "stream",
     "text": [
      "@ "
     ]
    },
    {
     "name": "stdout",
     "output_type": "stream",
     "text": [
      "@ "
     ]
    },
    {
     "name": "stdout",
     "output_type": "stream",
     "text": [
      "@ "
     ]
    },
    {
     "name": "stdout",
     "output_type": "stream",
     "text": [
      "@ "
     ]
    },
    {
     "name": "stdout",
     "output_type": "stream",
     "text": [
      "@ "
     ]
    },
    {
     "name": "stdout",
     "output_type": "stream",
     "text": [
      "@ "
     ]
    },
    {
     "name": "stdout",
     "output_type": "stream",
     "text": [
      "@ "
     ]
    },
    {
     "name": "stdout",
     "output_type": "stream",
     "text": [
      "@ "
     ]
    },
    {
     "name": "stdout",
     "output_type": "stream",
     "text": [
      "@ "
     ]
    },
    {
     "name": "stdout",
     "output_type": "stream",
     "text": [
      "@ "
     ]
    },
    {
     "name": "stdout",
     "output_type": "stream",
     "text": [
      "@ "
     ]
    },
    {
     "name": "stdout",
     "output_type": "stream",
     "text": [
      "@ "
     ]
    },
    {
     "name": "stdout",
     "output_type": "stream",
     "text": [
      "@ "
     ]
    },
    {
     "name": "stdout",
     "output_type": "stream",
     "text": [
      "@ "
     ]
    },
    {
     "name": "stdout",
     "output_type": "stream",
     "text": [
      "@ "
     ]
    },
    {
     "name": "stdout",
     "output_type": "stream",
     "text": [
      "@ "
     ]
    },
    {
     "name": "stdout",
     "output_type": "stream",
     "text": [
      "@ "
     ]
    },
    {
     "name": "stdout",
     "output_type": "stream",
     "text": [
      "@ "
     ]
    },
    {
     "name": "stdout",
     "output_type": "stream",
     "text": [
      "@ "
     ]
    },
    {
     "name": "stdout",
     "output_type": "stream",
     "text": [
      "@ "
     ]
    },
    {
     "name": "stdout",
     "output_type": "stream",
     "text": [
      "@ "
     ]
    },
    {
     "name": "stdout",
     "output_type": "stream",
     "text": [
      "@ "
     ]
    },
    {
     "name": "stdout",
     "output_type": "stream",
     "text": [
      "@ "
     ]
    },
    {
     "name": "stdout",
     "output_type": "stream",
     "text": [
      "@ "
     ]
    },
    {
     "name": "stdout",
     "output_type": "stream",
     "text": [
      "@ "
     ]
    },
    {
     "name": "stdout",
     "output_type": "stream",
     "text": [
      "@ "
     ]
    },
    {
     "name": "stdout",
     "output_type": "stream",
     "text": [
      "@ "
     ]
    },
    {
     "name": "stdout",
     "output_type": "stream",
     "text": [
      "@ "
     ]
    },
    {
     "name": "stdout",
     "output_type": "stream",
     "text": [
      "@ "
     ]
    },
    {
     "name": "stdout",
     "output_type": "stream",
     "text": [
      "@ "
     ]
    },
    {
     "name": "stdout",
     "output_type": "stream",
     "text": [
      "@ "
     ]
    },
    {
     "name": "stdout",
     "output_type": "stream",
     "text": [
      "@ "
     ]
    },
    {
     "name": "stdout",
     "output_type": "stream",
     "text": [
      "@ "
     ]
    },
    {
     "name": "stdout",
     "output_type": "stream",
     "text": [
      "@ "
     ]
    },
    {
     "name": "stdout",
     "output_type": "stream",
     "text": [
      "@ "
     ]
    },
    {
     "name": "stdout",
     "output_type": "stream",
     "text": [
      "@ "
     ]
    },
    {
     "name": "stdout",
     "output_type": "stream",
     "text": [
      "@ "
     ]
    },
    {
     "name": "stdout",
     "output_type": "stream",
     "text": [
      "@ "
     ]
    },
    {
     "name": "stdout",
     "output_type": "stream",
     "text": [
      "@ "
     ]
    },
    {
     "name": "stdout",
     "output_type": "stream",
     "text": [
      "@ "
     ]
    },
    {
     "name": "stdout",
     "output_type": "stream",
     "text": [
      "@ "
     ]
    },
    {
     "name": "stdout",
     "output_type": "stream",
     "text": [
      "@ "
     ]
    },
    {
     "name": "stdout",
     "output_type": "stream",
     "text": [
      "@ "
     ]
    },
    {
     "name": "stdout",
     "output_type": "stream",
     "text": [
      "@ "
     ]
    },
    {
     "name": "stdout",
     "output_type": "stream",
     "text": [
      "@ "
     ]
    },
    {
     "name": "stdout",
     "output_type": "stream",
     "text": [
      "@ "
     ]
    },
    {
     "name": "stdout",
     "output_type": "stream",
     "text": [
      "@ "
     ]
    },
    {
     "name": "stdout",
     "output_type": "stream",
     "text": [
      "@ "
     ]
    },
    {
     "name": "stdout",
     "output_type": "stream",
     "text": [
      "@ "
     ]
    },
    {
     "name": "stdout",
     "output_type": "stream",
     "text": [
      "@ "
     ]
    },
    {
     "name": "stdout",
     "output_type": "stream",
     "text": [
      "@ "
     ]
    },
    {
     "name": "stdout",
     "output_type": "stream",
     "text": [
      "@ "
     ]
    },
    {
     "name": "stdout",
     "output_type": "stream",
     "text": [
      "@ "
     ]
    },
    {
     "name": "stdout",
     "output_type": "stream",
     "text": [
      "@ "
     ]
    },
    {
     "name": "stdout",
     "output_type": "stream",
     "text": [
      "@ "
     ]
    },
    {
     "name": "stdout",
     "output_type": "stream",
     "text": [
      "@ "
     ]
    },
    {
     "name": "stdout",
     "output_type": "stream",
     "text": [
      "@ "
     ]
    },
    {
     "name": "stdout",
     "output_type": "stream",
     "text": [
      "@ "
     ]
    },
    {
     "name": "stdout",
     "output_type": "stream",
     "text": [
      "@ "
     ]
    },
    {
     "name": "stdout",
     "output_type": "stream",
     "text": [
      "@ "
     ]
    },
    {
     "name": "stdout",
     "output_type": "stream",
     "text": [
      "@ "
     ]
    },
    {
     "name": "stdout",
     "output_type": "stream",
     "text": [
      "@ "
     ]
    },
    {
     "name": "stdout",
     "output_type": "stream",
     "text": [
      "@ "
     ]
    },
    {
     "name": "stdout",
     "output_type": "stream",
     "text": [
      "@ "
     ]
    },
    {
     "name": "stdout",
     "output_type": "stream",
     "text": [
      "@ "
     ]
    },
    {
     "name": "stdout",
     "output_type": "stream",
     "text": [
      "@ "
     ]
    },
    {
     "name": "stdout",
     "output_type": "stream",
     "text": [
      "@ "
     ]
    },
    {
     "name": "stdout",
     "output_type": "stream",
     "text": [
      "@ "
     ]
    },
    {
     "name": "stdout",
     "output_type": "stream",
     "text": [
      "@ "
     ]
    },
    {
     "name": "stdout",
     "output_type": "stream",
     "text": [
      "@ "
     ]
    },
    {
     "name": "stdout",
     "output_type": "stream",
     "text": [
      "@ "
     ]
    },
    {
     "name": "stdout",
     "output_type": "stream",
     "text": [
      "@ "
     ]
    },
    {
     "name": "stdout",
     "output_type": "stream",
     "text": [
      "@ "
     ]
    },
    {
     "name": "stdout",
     "output_type": "stream",
     "text": [
      "@ "
     ]
    },
    {
     "name": "stdout",
     "output_type": "stream",
     "text": [
      "@ "
     ]
    },
    {
     "name": "stdout",
     "output_type": "stream",
     "text": [
      "@ "
     ]
    },
    {
     "name": "stdout",
     "output_type": "stream",
     "text": [
      "@ "
     ]
    },
    {
     "name": "stdout",
     "output_type": "stream",
     "text": [
      "@ "
     ]
    },
    {
     "name": "stdout",
     "output_type": "stream",
     "text": [
      "@ "
     ]
    },
    {
     "name": "stdout",
     "output_type": "stream",
     "text": [
      "@ "
     ]
    },
    {
     "name": "stdout",
     "output_type": "stream",
     "text": [
      "@ "
     ]
    },
    {
     "name": "stdout",
     "output_type": "stream",
     "text": [
      "@ "
     ]
    },
    {
     "name": "stdout",
     "output_type": "stream",
     "text": [
      "@ "
     ]
    },
    {
     "name": "stdout",
     "output_type": "stream",
     "text": [
      "@ "
     ]
    },
    {
     "name": "stdout",
     "output_type": "stream",
     "text": [
      "@ "
     ]
    },
    {
     "name": "stdout",
     "output_type": "stream",
     "text": [
      "@ "
     ]
    },
    {
     "name": "stdout",
     "output_type": "stream",
     "text": [
      "@ "
     ]
    },
    {
     "name": "stdout",
     "output_type": "stream",
     "text": [
      "@ "
     ]
    },
    {
     "name": "stdout",
     "output_type": "stream",
     "text": [
      "@ "
     ]
    },
    {
     "name": "stdout",
     "output_type": "stream",
     "text": [
      "@ "
     ]
    },
    {
     "name": "stdout",
     "output_type": "stream",
     "text": [
      "@ "
     ]
    },
    {
     "name": "stdout",
     "output_type": "stream",
     "text": [
      "@ "
     ]
    },
    {
     "name": "stdout",
     "output_type": "stream",
     "text": [
      "@ "
     ]
    },
    {
     "name": "stdout",
     "output_type": "stream",
     "text": [
      "@ "
     ]
    },
    {
     "name": "stdout",
     "output_type": "stream",
     "text": [
      "@ "
     ]
    },
    {
     "name": "stdout",
     "output_type": "stream",
     "text": [
      "@ "
     ]
    },
    {
     "name": "stdout",
     "output_type": "stream",
     "text": [
      "@ "
     ]
    },
    {
     "name": "stdout",
     "output_type": "stream",
     "text": [
      "@ "
     ]
    },
    {
     "name": "stdout",
     "output_type": "stream",
     "text": [
      "@ "
     ]
    },
    {
     "name": "stdout",
     "output_type": "stream",
     "text": [
      "@ "
     ]
    },
    {
     "name": "stdout",
     "output_type": "stream",
     "text": [
      "@ "
     ]
    },
    {
     "name": "stdout",
     "output_type": "stream",
     "text": [
      "@ "
     ]
    },
    {
     "name": "stdout",
     "output_type": "stream",
     "text": [
      "@ "
     ]
    },
    {
     "name": "stdout",
     "output_type": "stream",
     "text": [
      "@ "
     ]
    },
    {
     "name": "stdout",
     "output_type": "stream",
     "text": [
      "@ "
     ]
    },
    {
     "name": "stdout",
     "output_type": "stream",
     "text": [
      "@ "
     ]
    },
    {
     "name": "stdout",
     "output_type": "stream",
     "text": [
      "@ "
     ]
    },
    {
     "name": "stdout",
     "output_type": "stream",
     "text": [
      "@ "
     ]
    },
    {
     "name": "stdout",
     "output_type": "stream",
     "text": [
      "@ "
     ]
    },
    {
     "name": "stdout",
     "output_type": "stream",
     "text": [
      "@ "
     ]
    },
    {
     "name": "stdout",
     "output_type": "stream",
     "text": [
      "@ "
     ]
    },
    {
     "name": "stdout",
     "output_type": "stream",
     "text": [
      "@ "
     ]
    },
    {
     "name": "stdout",
     "output_type": "stream",
     "text": [
      "@ "
     ]
    },
    {
     "name": "stdout",
     "output_type": "stream",
     "text": [
      "@ "
     ]
    },
    {
     "name": "stdout",
     "output_type": "stream",
     "text": [
      "@ "
     ]
    },
    {
     "name": "stdout",
     "output_type": "stream",
     "text": [
      "@ "
     ]
    },
    {
     "name": "stdout",
     "output_type": "stream",
     "text": [
      "@ "
     ]
    },
    {
     "name": "stdout",
     "output_type": "stream",
     "text": [
      "@ "
     ]
    },
    {
     "name": "stdout",
     "output_type": "stream",
     "text": [
      "@ "
     ]
    },
    {
     "name": "stdout",
     "output_type": "stream",
     "text": [
      "@ "
     ]
    },
    {
     "name": "stdout",
     "output_type": "stream",
     "text": [
      "@ "
     ]
    },
    {
     "name": "stdout",
     "output_type": "stream",
     "text": [
      "@ "
     ]
    },
    {
     "name": "stdout",
     "output_type": "stream",
     "text": [
      "@ "
     ]
    },
    {
     "name": "stdout",
     "output_type": "stream",
     "text": [
      "@ "
     ]
    },
    {
     "name": "stdout",
     "output_type": "stream",
     "text": [
      "@ "
     ]
    },
    {
     "name": "stdout",
     "output_type": "stream",
     "text": [
      "@ "
     ]
    },
    {
     "name": "stdout",
     "output_type": "stream",
     "text": [
      "@ "
     ]
    },
    {
     "name": "stdout",
     "output_type": "stream",
     "text": [
      "@ "
     ]
    },
    {
     "name": "stdout",
     "output_type": "stream",
     "text": [
      "@ "
     ]
    },
    {
     "name": "stdout",
     "output_type": "stream",
     "text": [
      "@ "
     ]
    },
    {
     "name": "stdout",
     "output_type": "stream",
     "text": [
      "@ "
     ]
    },
    {
     "name": "stdout",
     "output_type": "stream",
     "text": [
      "@ "
     ]
    },
    {
     "name": "stdout",
     "output_type": "stream",
     "text": [
      "@ "
     ]
    },
    {
     "name": "stdout",
     "output_type": "stream",
     "text": [
      "@ "
     ]
    },
    {
     "name": "stdout",
     "output_type": "stream",
     "text": [
      "@ "
     ]
    },
    {
     "name": "stdout",
     "output_type": "stream",
     "text": [
      "@ "
     ]
    },
    {
     "name": "stdout",
     "output_type": "stream",
     "text": [
      "@ "
     ]
    },
    {
     "name": "stdout",
     "output_type": "stream",
     "text": [
      "@ "
     ]
    },
    {
     "name": "stdout",
     "output_type": "stream",
     "text": [
      "@ "
     ]
    },
    {
     "name": "stdout",
     "output_type": "stream",
     "text": [
      "@ "
     ]
    },
    {
     "name": "stdout",
     "output_type": "stream",
     "text": [
      "@ "
     ]
    },
    {
     "name": "stdout",
     "output_type": "stream",
     "text": [
      "@ "
     ]
    },
    {
     "name": "stdout",
     "output_type": "stream",
     "text": [
      "@ "
     ]
    },
    {
     "name": "stdout",
     "output_type": "stream",
     "text": [
      "@ "
     ]
    },
    {
     "name": "stdout",
     "output_type": "stream",
     "text": [
      "@ "
     ]
    },
    {
     "name": "stdout",
     "output_type": "stream",
     "text": [
      "@ "
     ]
    },
    {
     "name": "stdout",
     "output_type": "stream",
     "text": [
      "@ "
     ]
    },
    {
     "name": "stdout",
     "output_type": "stream",
     "text": [
      "@ "
     ]
    },
    {
     "name": "stdout",
     "output_type": "stream",
     "text": [
      "@ "
     ]
    },
    {
     "name": "stdout",
     "output_type": "stream",
     "text": [
      "@ "
     ]
    },
    {
     "name": "stdout",
     "output_type": "stream",
     "text": [
      "@ "
     ]
    },
    {
     "name": "stdout",
     "output_type": "stream",
     "text": [
      "@ "
     ]
    },
    {
     "name": "stdout",
     "output_type": "stream",
     "text": [
      "@ "
     ]
    },
    {
     "name": "stdout",
     "output_type": "stream",
     "text": [
      "@ "
     ]
    },
    {
     "name": "stdout",
     "output_type": "stream",
     "text": [
      "@ "
     ]
    },
    {
     "name": "stdout",
     "output_type": "stream",
     "text": [
      "@ "
     ]
    },
    {
     "name": "stdout",
     "output_type": "stream",
     "text": [
      "@ "
     ]
    },
    {
     "name": "stdout",
     "output_type": "stream",
     "text": [
      "@ "
     ]
    },
    {
     "name": "stdout",
     "output_type": "stream",
     "text": [
      "@ "
     ]
    },
    {
     "name": "stdout",
     "output_type": "stream",
     "text": [
      "@ "
     ]
    },
    {
     "name": "stdout",
     "output_type": "stream",
     "text": [
      "@ "
     ]
    },
    {
     "name": "stdout",
     "output_type": "stream",
     "text": [
      "@ "
     ]
    },
    {
     "name": "stdout",
     "output_type": "stream",
     "text": [
      "@ "
     ]
    },
    {
     "name": "stdout",
     "output_type": "stream",
     "text": [
      "@ "
     ]
    },
    {
     "name": "stdout",
     "output_type": "stream",
     "text": [
      "@ "
     ]
    },
    {
     "name": "stdout",
     "output_type": "stream",
     "text": [
      "@ "
     ]
    },
    {
     "name": "stdout",
     "output_type": "stream",
     "text": [
      "@ "
     ]
    },
    {
     "name": "stdout",
     "output_type": "stream",
     "text": [
      "@ "
     ]
    },
    {
     "name": "stdout",
     "output_type": "stream",
     "text": [
      "@ "
     ]
    },
    {
     "name": "stdout",
     "output_type": "stream",
     "text": [
      "@ "
     ]
    },
    {
     "name": "stdout",
     "output_type": "stream",
     "text": [
      "@ "
     ]
    },
    {
     "name": "stdout",
     "output_type": "stream",
     "text": [
      "@ "
     ]
    },
    {
     "name": "stdout",
     "output_type": "stream",
     "text": [
      "@ "
     ]
    },
    {
     "name": "stdout",
     "output_type": "stream",
     "text": [
      "@ "
     ]
    },
    {
     "name": "stdout",
     "output_type": "stream",
     "text": [
      "@ "
     ]
    },
    {
     "name": "stdout",
     "output_type": "stream",
     "text": [
      "@ "
     ]
    },
    {
     "name": "stdout",
     "output_type": "stream",
     "text": [
      "@ "
     ]
    },
    {
     "name": "stdout",
     "output_type": "stream",
     "text": [
      "@ "
     ]
    },
    {
     "name": "stdout",
     "output_type": "stream",
     "text": [
      "@ "
     ]
    },
    {
     "name": "stdout",
     "output_type": "stream",
     "text": [
      "@ "
     ]
    },
    {
     "name": "stdout",
     "output_type": "stream",
     "text": [
      "@ "
     ]
    },
    {
     "name": "stdout",
     "output_type": "stream",
     "text": [
      "@ "
     ]
    },
    {
     "name": "stdout",
     "output_type": "stream",
     "text": [
      "@ "
     ]
    },
    {
     "name": "stdout",
     "output_type": "stream",
     "text": [
      "@ "
     ]
    },
    {
     "name": "stdout",
     "output_type": "stream",
     "text": [
      "@ "
     ]
    },
    {
     "name": "stdout",
     "output_type": "stream",
     "text": [
      "@ "
     ]
    },
    {
     "name": "stdout",
     "output_type": "stream",
     "text": [
      "@ "
     ]
    },
    {
     "name": "stdout",
     "output_type": "stream",
     "text": [
      "@ "
     ]
    },
    {
     "name": "stdout",
     "output_type": "stream",
     "text": [
      "@ "
     ]
    },
    {
     "name": "stdout",
     "output_type": "stream",
     "text": [
      "@ "
     ]
    },
    {
     "name": "stdout",
     "output_type": "stream",
     "text": [
      "@ "
     ]
    },
    {
     "name": "stdout",
     "output_type": "stream",
     "text": [
      "@ "
     ]
    },
    {
     "name": "stdout",
     "output_type": "stream",
     "text": [
      "@ "
     ]
    },
    {
     "name": "stdout",
     "output_type": "stream",
     "text": [
      "@ "
     ]
    },
    {
     "name": "stdout",
     "output_type": "stream",
     "text": [
      "@ "
     ]
    },
    {
     "name": "stdout",
     "output_type": "stream",
     "text": [
      "@ "
     ]
    },
    {
     "name": "stdout",
     "output_type": "stream",
     "text": [
      "@ "
     ]
    },
    {
     "name": "stdout",
     "output_type": "stream",
     "text": [
      "@ "
     ]
    },
    {
     "name": "stdout",
     "output_type": "stream",
     "text": [
      "@ "
     ]
    },
    {
     "name": "stdout",
     "output_type": "stream",
     "text": [
      "@ "
     ]
    },
    {
     "name": "stdout",
     "output_type": "stream",
     "text": [
      "@ "
     ]
    },
    {
     "name": "stdout",
     "output_type": "stream",
     "text": [
      "@ "
     ]
    },
    {
     "name": "stdout",
     "output_type": "stream",
     "text": [
      "@ "
     ]
    },
    {
     "name": "stdout",
     "output_type": "stream",
     "text": [
      "@ "
     ]
    },
    {
     "name": "stdout",
     "output_type": "stream",
     "text": [
      "@ "
     ]
    },
    {
     "name": "stdout",
     "output_type": "stream",
     "text": [
      "@ "
     ]
    },
    {
     "name": "stdout",
     "output_type": "stream",
     "text": [
      "@ "
     ]
    },
    {
     "name": "stdout",
     "output_type": "stream",
     "text": [
      "@ "
     ]
    },
    {
     "name": "stdout",
     "output_type": "stream",
     "text": [
      "@ "
     ]
    },
    {
     "name": "stdout",
     "output_type": "stream",
     "text": [
      "@ "
     ]
    },
    {
     "name": "stdout",
     "output_type": "stream",
     "text": [
      "@ "
     ]
    },
    {
     "name": "stdout",
     "output_type": "stream",
     "text": [
      "@ "
     ]
    },
    {
     "name": "stdout",
     "output_type": "stream",
     "text": [
      "@ "
     ]
    },
    {
     "name": "stdout",
     "output_type": "stream",
     "text": [
      "@ "
     ]
    },
    {
     "name": "stdout",
     "output_type": "stream",
     "text": [
      "@ "
     ]
    },
    {
     "name": "stdout",
     "output_type": "stream",
     "text": [
      "@ "
     ]
    },
    {
     "name": "stdout",
     "output_type": "stream",
     "text": [
      "@ "
     ]
    },
    {
     "name": "stdout",
     "output_type": "stream",
     "text": [
      "@ "
     ]
    },
    {
     "name": "stdout",
     "output_type": "stream",
     "text": [
      "@ "
     ]
    },
    {
     "name": "stdout",
     "output_type": "stream",
     "text": [
      "@ "
     ]
    },
    {
     "name": "stdout",
     "output_type": "stream",
     "text": [
      "@ "
     ]
    },
    {
     "name": "stdout",
     "output_type": "stream",
     "text": [
      "@ "
     ]
    },
    {
     "name": "stdout",
     "output_type": "stream",
     "text": [
      "@ "
     ]
    },
    {
     "name": "stdout",
     "output_type": "stream",
     "text": [
      "@ "
     ]
    },
    {
     "name": "stdout",
     "output_type": "stream",
     "text": [
      "@ "
     ]
    },
    {
     "name": "stdout",
     "output_type": "stream",
     "text": [
      "@ "
     ]
    },
    {
     "name": "stdout",
     "output_type": "stream",
     "text": [
      "@ "
     ]
    },
    {
     "name": "stdout",
     "output_type": "stream",
     "text": [
      "@ "
     ]
    },
    {
     "name": "stdout",
     "output_type": "stream",
     "text": [
      "@ "
     ]
    },
    {
     "name": "stdout",
     "output_type": "stream",
     "text": [
      "@ "
     ]
    },
    {
     "name": "stdout",
     "output_type": "stream",
     "text": [
      "@ "
     ]
    },
    {
     "name": "stdout",
     "output_type": "stream",
     "text": [
      "@ "
     ]
    },
    {
     "name": "stdout",
     "output_type": "stream",
     "text": [
      "@ "
     ]
    },
    {
     "name": "stdout",
     "output_type": "stream",
     "text": [
      "@ "
     ]
    },
    {
     "name": "stdout",
     "output_type": "stream",
     "text": [
      "@ "
     ]
    },
    {
     "name": "stdout",
     "output_type": "stream",
     "text": [
      "@ "
     ]
    },
    {
     "name": "stdout",
     "output_type": "stream",
     "text": [
      "@ "
     ]
    },
    {
     "name": "stdout",
     "output_type": "stream",
     "text": [
      "@ "
     ]
    },
    {
     "name": "stdout",
     "output_type": "stream",
     "text": [
      "@ "
     ]
    },
    {
     "name": "stdout",
     "output_type": "stream",
     "text": [
      "@ "
     ]
    },
    {
     "name": "stdout",
     "output_type": "stream",
     "text": [
      "@ "
     ]
    },
    {
     "name": "stdout",
     "output_type": "stream",
     "text": [
      "@ "
     ]
    },
    {
     "name": "stdout",
     "output_type": "stream",
     "text": [
      "@ "
     ]
    },
    {
     "name": "stdout",
     "output_type": "stream",
     "text": [
      "@ "
     ]
    },
    {
     "name": "stdout",
     "output_type": "stream",
     "text": [
      "@ "
     ]
    },
    {
     "name": "stdout",
     "output_type": "stream",
     "text": [
      "@ "
     ]
    },
    {
     "name": "stdout",
     "output_type": "stream",
     "text": [
      "@ "
     ]
    },
    {
     "name": "stdout",
     "output_type": "stream",
     "text": [
      "@ "
     ]
    },
    {
     "name": "stdout",
     "output_type": "stream",
     "text": [
      "@ "
     ]
    },
    {
     "name": "stdout",
     "output_type": "stream",
     "text": [
      "@ "
     ]
    },
    {
     "name": "stdout",
     "output_type": "stream",
     "text": [
      "@ "
     ]
    },
    {
     "name": "stdout",
     "output_type": "stream",
     "text": [
      "@ "
     ]
    },
    {
     "name": "stdout",
     "output_type": "stream",
     "text": [
      "@ "
     ]
    },
    {
     "name": "stdout",
     "output_type": "stream",
     "text": [
      "@ "
     ]
    },
    {
     "name": "stdout",
     "output_type": "stream",
     "text": [
      "@ "
     ]
    },
    {
     "name": "stdout",
     "output_type": "stream",
     "text": [
      "@ "
     ]
    },
    {
     "name": "stdout",
     "output_type": "stream",
     "text": [
      "@ "
     ]
    },
    {
     "name": "stdout",
     "output_type": "stream",
     "text": [
      "@ "
     ]
    },
    {
     "name": "stdout",
     "output_type": "stream",
     "text": [
      "@ "
     ]
    },
    {
     "name": "stdout",
     "output_type": "stream",
     "text": [
      "@ "
     ]
    },
    {
     "name": "stdout",
     "output_type": "stream",
     "text": [
      "@ "
     ]
    },
    {
     "name": "stdout",
     "output_type": "stream",
     "text": [
      "@ "
     ]
    },
    {
     "name": "stdout",
     "output_type": "stream",
     "text": [
      "@ "
     ]
    },
    {
     "name": "stdout",
     "output_type": "stream",
     "text": [
      "@ "
     ]
    },
    {
     "name": "stdout",
     "output_type": "stream",
     "text": [
      "@ "
     ]
    },
    {
     "name": "stdout",
     "output_type": "stream",
     "text": [
      "@ "
     ]
    },
    {
     "name": "stdout",
     "output_type": "stream",
     "text": [
      "@ "
     ]
    },
    {
     "name": "stdout",
     "output_type": "stream",
     "text": [
      "@ "
     ]
    },
    {
     "name": "stdout",
     "output_type": "stream",
     "text": [
      "@ "
     ]
    },
    {
     "name": "stdout",
     "output_type": "stream",
     "text": [
      "@ "
     ]
    },
    {
     "name": "stdout",
     "output_type": "stream",
     "text": [
      "@ "
     ]
    },
    {
     "name": "stdout",
     "output_type": "stream",
     "text": [
      "@ "
     ]
    },
    {
     "name": "stdout",
     "output_type": "stream",
     "text": [
      "@ "
     ]
    },
    {
     "name": "stdout",
     "output_type": "stream",
     "text": [
      "@ "
     ]
    },
    {
     "name": "stdout",
     "output_type": "stream",
     "text": [
      "@ "
     ]
    },
    {
     "name": "stdout",
     "output_type": "stream",
     "text": [
      "@ "
     ]
    },
    {
     "name": "stdout",
     "output_type": "stream",
     "text": [
      "@ "
     ]
    },
    {
     "name": "stdout",
     "output_type": "stream",
     "text": [
      "@ "
     ]
    },
    {
     "name": "stdout",
     "output_type": "stream",
     "text": [
      "@ "
     ]
    },
    {
     "name": "stdout",
     "output_type": "stream",
     "text": [
      "@ "
     ]
    },
    {
     "name": "stdout",
     "output_type": "stream",
     "text": [
      "@ "
     ]
    },
    {
     "name": "stdout",
     "output_type": "stream",
     "text": [
      "@ "
     ]
    },
    {
     "name": "stdout",
     "output_type": "stream",
     "text": [
      "@ "
     ]
    },
    {
     "name": "stdout",
     "output_type": "stream",
     "text": [
      "@ "
     ]
    },
    {
     "name": "stdout",
     "output_type": "stream",
     "text": [
      "@ "
     ]
    },
    {
     "name": "stdout",
     "output_type": "stream",
     "text": [
      "@ "
     ]
    },
    {
     "name": "stdout",
     "output_type": "stream",
     "text": [
      "@ "
     ]
    },
    {
     "name": "stdout",
     "output_type": "stream",
     "text": [
      "@ "
     ]
    },
    {
     "name": "stdout",
     "output_type": "stream",
     "text": [
      "@ "
     ]
    },
    {
     "name": "stdout",
     "output_type": "stream",
     "text": [
      "@ "
     ]
    },
    {
     "name": "stdout",
     "output_type": "stream",
     "text": [
      "@ "
     ]
    },
    {
     "name": "stdout",
     "output_type": "stream",
     "text": [
      "@ "
     ]
    },
    {
     "name": "stdout",
     "output_type": "stream",
     "text": [
      "@ "
     ]
    },
    {
     "name": "stdout",
     "output_type": "stream",
     "text": [
      "@ "
     ]
    },
    {
     "name": "stdout",
     "output_type": "stream",
     "text": [
      "@ "
     ]
    },
    {
     "name": "stdout",
     "output_type": "stream",
     "text": [
      "@ "
     ]
    },
    {
     "name": "stdout",
     "output_type": "stream",
     "text": [
      "@ "
     ]
    },
    {
     "name": "stdout",
     "output_type": "stream",
     "text": [
      "@ "
     ]
    },
    {
     "name": "stdout",
     "output_type": "stream",
     "text": [
      "@ "
     ]
    },
    {
     "name": "stdout",
     "output_type": "stream",
     "text": [
      "@ "
     ]
    },
    {
     "name": "stdout",
     "output_type": "stream",
     "text": [
      "@ "
     ]
    },
    {
     "name": "stdout",
     "output_type": "stream",
     "text": [
      "@ "
     ]
    },
    {
     "name": "stdout",
     "output_type": "stream",
     "text": [
      "@ "
     ]
    },
    {
     "name": "stdout",
     "output_type": "stream",
     "text": [
      "@ "
     ]
    },
    {
     "name": "stdout",
     "output_type": "stream",
     "text": [
      "@ "
     ]
    },
    {
     "name": "stdout",
     "output_type": "stream",
     "text": [
      "@ "
     ]
    },
    {
     "name": "stdout",
     "output_type": "stream",
     "text": [
      "@ "
     ]
    },
    {
     "name": "stdout",
     "output_type": "stream",
     "text": [
      "@ "
     ]
    },
    {
     "name": "stdout",
     "output_type": "stream",
     "text": [
      "@ "
     ]
    },
    {
     "name": "stdout",
     "output_type": "stream",
     "text": [
      "@ "
     ]
    },
    {
     "name": "stdout",
     "output_type": "stream",
     "text": [
      "@ "
     ]
    },
    {
     "name": "stdout",
     "output_type": "stream",
     "text": [
      "@ "
     ]
    },
    {
     "name": "stdout",
     "output_type": "stream",
     "text": [
      "@ "
     ]
    },
    {
     "name": "stdout",
     "output_type": "stream",
     "text": [
      "@ "
     ]
    },
    {
     "name": "stdout",
     "output_type": "stream",
     "text": [
      "@ "
     ]
    },
    {
     "name": "stdout",
     "output_type": "stream",
     "text": [
      "@ "
     ]
    },
    {
     "name": "stdout",
     "output_type": "stream",
     "text": [
      "@ "
     ]
    },
    {
     "name": "stdout",
     "output_type": "stream",
     "text": [
      "@ "
     ]
    },
    {
     "name": "stdout",
     "output_type": "stream",
     "text": [
      "@ "
     ]
    },
    {
     "name": "stdout",
     "output_type": "stream",
     "text": [
      "@ "
     ]
    },
    {
     "name": "stdout",
     "output_type": "stream",
     "text": [
      "@ "
     ]
    },
    {
     "name": "stdout",
     "output_type": "stream",
     "text": [
      "@ "
     ]
    },
    {
     "name": "stdout",
     "output_type": "stream",
     "text": [
      "@ "
     ]
    },
    {
     "name": "stdout",
     "output_type": "stream",
     "text": [
      "@ "
     ]
    },
    {
     "name": "stdout",
     "output_type": "stream",
     "text": [
      "@ "
     ]
    },
    {
     "name": "stdout",
     "output_type": "stream",
     "text": [
      "@ "
     ]
    },
    {
     "name": "stdout",
     "output_type": "stream",
     "text": [
      "@ "
     ]
    },
    {
     "name": "stdout",
     "output_type": "stream",
     "text": [
      "@ "
     ]
    },
    {
     "name": "stdout",
     "output_type": "stream",
     "text": [
      "@ "
     ]
    },
    {
     "name": "stdout",
     "output_type": "stream",
     "text": [
      "@ "
     ]
    },
    {
     "name": "stdout",
     "output_type": "stream",
     "text": [
      "@ "
     ]
    },
    {
     "name": "stdout",
     "output_type": "stream",
     "text": [
      "@ "
     ]
    },
    {
     "name": "stdout",
     "output_type": "stream",
     "text": [
      "@ "
     ]
    },
    {
     "name": "stdout",
     "output_type": "stream",
     "text": [
      "@ "
     ]
    },
    {
     "name": "stdout",
     "output_type": "stream",
     "text": [
      "@ "
     ]
    },
    {
     "name": "stdout",
     "output_type": "stream",
     "text": [
      "@ "
     ]
    },
    {
     "name": "stdout",
     "output_type": "stream",
     "text": [
      "@ "
     ]
    },
    {
     "name": "stdout",
     "output_type": "stream",
     "text": [
      "@ "
     ]
    },
    {
     "name": "stdout",
     "output_type": "stream",
     "text": [
      "@ "
     ]
    },
    {
     "name": "stdout",
     "output_type": "stream",
     "text": [
      "@ "
     ]
    },
    {
     "name": "stdout",
     "output_type": "stream",
     "text": [
      "@ "
     ]
    },
    {
     "name": "stdout",
     "output_type": "stream",
     "text": [
      "@ "
     ]
    },
    {
     "name": "stdout",
     "output_type": "stream",
     "text": [
      "@ "
     ]
    },
    {
     "name": "stdout",
     "output_type": "stream",
     "text": [
      "@ "
     ]
    },
    {
     "name": "stdout",
     "output_type": "stream",
     "text": [
      "@ "
     ]
    },
    {
     "name": "stdout",
     "output_type": "stream",
     "text": [
      "@ "
     ]
    },
    {
     "name": "stdout",
     "output_type": "stream",
     "text": [
      "@ "
     ]
    },
    {
     "name": "stdout",
     "output_type": "stream",
     "text": [
      "@ "
     ]
    },
    {
     "name": "stdout",
     "output_type": "stream",
     "text": [
      "@ "
     ]
    },
    {
     "name": "stdout",
     "output_type": "stream",
     "text": [
      "@ "
     ]
    },
    {
     "name": "stdout",
     "output_type": "stream",
     "text": [
      "@ "
     ]
    },
    {
     "name": "stdout",
     "output_type": "stream",
     "text": [
      "@ "
     ]
    },
    {
     "name": "stdout",
     "output_type": "stream",
     "text": [
      "@ "
     ]
    },
    {
     "name": "stdout",
     "output_type": "stream",
     "text": [
      "@ "
     ]
    },
    {
     "name": "stdout",
     "output_type": "stream",
     "text": [
      "@ "
     ]
    },
    {
     "name": "stdout",
     "output_type": "stream",
     "text": [
      "@ "
     ]
    },
    {
     "name": "stdout",
     "output_type": "stream",
     "text": [
      "@ "
     ]
    },
    {
     "name": "stdout",
     "output_type": "stream",
     "text": [
      "@ "
     ]
    },
    {
     "name": "stdout",
     "output_type": "stream",
     "text": [
      "@ "
     ]
    },
    {
     "name": "stdout",
     "output_type": "stream",
     "text": [
      "@ "
     ]
    },
    {
     "name": "stdout",
     "output_type": "stream",
     "text": [
      "@ "
     ]
    },
    {
     "name": "stdout",
     "output_type": "stream",
     "text": [
      "@ "
     ]
    },
    {
     "name": "stdout",
     "output_type": "stream",
     "text": [
      "@ "
     ]
    },
    {
     "name": "stdout",
     "output_type": "stream",
     "text": [
      "@ "
     ]
    },
    {
     "name": "stdout",
     "output_type": "stream",
     "text": [
      "@ "
     ]
    },
    {
     "name": "stdout",
     "output_type": "stream",
     "text": [
      "@ "
     ]
    },
    {
     "name": "stdout",
     "output_type": "stream",
     "text": [
      "@ "
     ]
    },
    {
     "name": "stdout",
     "output_type": "stream",
     "text": [
      "@ "
     ]
    },
    {
     "name": "stdout",
     "output_type": "stream",
     "text": [
      "@ "
     ]
    },
    {
     "name": "stdout",
     "output_type": "stream",
     "text": [
      "@ "
     ]
    },
    {
     "name": "stdout",
     "output_type": "stream",
     "text": [
      "@ "
     ]
    },
    {
     "name": "stdout",
     "output_type": "stream",
     "text": [
      "@ "
     ]
    },
    {
     "name": "stdout",
     "output_type": "stream",
     "text": [
      "@ "
     ]
    },
    {
     "name": "stdout",
     "output_type": "stream",
     "text": [
      "@ "
     ]
    },
    {
     "name": "stdout",
     "output_type": "stream",
     "text": [
      "@ "
     ]
    },
    {
     "name": "stdout",
     "output_type": "stream",
     "text": [
      "@ "
     ]
    },
    {
     "name": "stdout",
     "output_type": "stream",
     "text": [
      "@ "
     ]
    },
    {
     "name": "stdout",
     "output_type": "stream",
     "text": [
      "@ "
     ]
    },
    {
     "name": "stdout",
     "output_type": "stream",
     "text": [
      "@ "
     ]
    },
    {
     "name": "stdout",
     "output_type": "stream",
     "text": [
      "@ "
     ]
    },
    {
     "name": "stdout",
     "output_type": "stream",
     "text": [
      "@ "
     ]
    },
    {
     "name": "stdout",
     "output_type": "stream",
     "text": [
      "@ "
     ]
    },
    {
     "name": "stdout",
     "output_type": "stream",
     "text": [
      "@ "
     ]
    },
    {
     "name": "stdout",
     "output_type": "stream",
     "text": [
      "@ "
     ]
    },
    {
     "name": "stdout",
     "output_type": "stream",
     "text": [
      "@ "
     ]
    },
    {
     "name": "stdout",
     "output_type": "stream",
     "text": [
      "@ "
     ]
    },
    {
     "name": "stdout",
     "output_type": "stream",
     "text": [
      "@ "
     ]
    },
    {
     "name": "stdout",
     "output_type": "stream",
     "text": [
      "@ "
     ]
    },
    {
     "name": "stdout",
     "output_type": "stream",
     "text": [
      "@ "
     ]
    },
    {
     "name": "stdout",
     "output_type": "stream",
     "text": [
      "@ "
     ]
    },
    {
     "name": "stdout",
     "output_type": "stream",
     "text": [
      "@ "
     ]
    },
    {
     "name": "stdout",
     "output_type": "stream",
     "text": [
      "@ "
     ]
    },
    {
     "name": "stdout",
     "output_type": "stream",
     "text": [
      "@ "
     ]
    },
    {
     "name": "stdout",
     "output_type": "stream",
     "text": [
      "@ "
     ]
    },
    {
     "name": "stdout",
     "output_type": "stream",
     "text": [
      "@ "
     ]
    },
    {
     "name": "stdout",
     "output_type": "stream",
     "text": [
      "@ "
     ]
    },
    {
     "name": "stdout",
     "output_type": "stream",
     "text": [
      "@ "
     ]
    },
    {
     "name": "stdout",
     "output_type": "stream",
     "text": [
      "@ "
     ]
    },
    {
     "name": "stdout",
     "output_type": "stream",
     "text": [
      "@ "
     ]
    },
    {
     "name": "stdout",
     "output_type": "stream",
     "text": [
      "@ "
     ]
    },
    {
     "name": "stdout",
     "output_type": "stream",
     "text": [
      "@ "
     ]
    },
    {
     "name": "stdout",
     "output_type": "stream",
     "text": [
      "@ "
     ]
    },
    {
     "name": "stdout",
     "output_type": "stream",
     "text": [
      "@ "
     ]
    },
    {
     "name": "stdout",
     "output_type": "stream",
     "text": [
      "@ "
     ]
    },
    {
     "name": "stdout",
     "output_type": "stream",
     "text": [
      "@ "
     ]
    },
    {
     "name": "stdout",
     "output_type": "stream",
     "text": [
      "@ "
     ]
    },
    {
     "name": "stdout",
     "output_type": "stream",
     "text": [
      "@ "
     ]
    },
    {
     "name": "stdout",
     "output_type": "stream",
     "text": [
      "@ "
     ]
    },
    {
     "name": "stdout",
     "output_type": "stream",
     "text": [
      "@ "
     ]
    },
    {
     "name": "stdout",
     "output_type": "stream",
     "text": [
      "@ "
     ]
    },
    {
     "name": "stdout",
     "output_type": "stream",
     "text": [
      "@ "
     ]
    },
    {
     "name": "stdout",
     "output_type": "stream",
     "text": [
      "@ "
     ]
    },
    {
     "name": "stdout",
     "output_type": "stream",
     "text": [
      "@ "
     ]
    },
    {
     "name": "stdout",
     "output_type": "stream",
     "text": [
      "@ "
     ]
    },
    {
     "name": "stdout",
     "output_type": "stream",
     "text": [
      "@ "
     ]
    },
    {
     "name": "stdout",
     "output_type": "stream",
     "text": [
      "@ "
     ]
    },
    {
     "name": "stdout",
     "output_type": "stream",
     "text": [
      "@ "
     ]
    },
    {
     "name": "stdout",
     "output_type": "stream",
     "text": [
      "@ "
     ]
    },
    {
     "name": "stdout",
     "output_type": "stream",
     "text": [
      "@ "
     ]
    },
    {
     "name": "stdout",
     "output_type": "stream",
     "text": [
      "@ "
     ]
    },
    {
     "name": "stdout",
     "output_type": "stream",
     "text": [
      "@ "
     ]
    },
    {
     "name": "stdout",
     "output_type": "stream",
     "text": [
      "@ "
     ]
    },
    {
     "name": "stdout",
     "output_type": "stream",
     "text": [
      "@ "
     ]
    },
    {
     "name": "stdout",
     "output_type": "stream",
     "text": [
      "@ "
     ]
    },
    {
     "name": "stdout",
     "output_type": "stream",
     "text": [
      "@ "
     ]
    },
    {
     "name": "stdout",
     "output_type": "stream",
     "text": [
      "@ "
     ]
    },
    {
     "name": "stdout",
     "output_type": "stream",
     "text": [
      "@ "
     ]
    },
    {
     "name": "stdout",
     "output_type": "stream",
     "text": [
      "@ "
     ]
    },
    {
     "name": "stdout",
     "output_type": "stream",
     "text": [
      "@ "
     ]
    },
    {
     "name": "stdout",
     "output_type": "stream",
     "text": [
      "@ "
     ]
    },
    {
     "name": "stdout",
     "output_type": "stream",
     "text": [
      "@ "
     ]
    },
    {
     "name": "stdout",
     "output_type": "stream",
     "text": [
      "@ "
     ]
    },
    {
     "name": "stdout",
     "output_type": "stream",
     "text": [
      "@ "
     ]
    },
    {
     "name": "stdout",
     "output_type": "stream",
     "text": [
      "@ "
     ]
    },
    {
     "name": "stdout",
     "output_type": "stream",
     "text": [
      "@ "
     ]
    },
    {
     "name": "stdout",
     "output_type": "stream",
     "text": [
      "@ "
     ]
    },
    {
     "name": "stdout",
     "output_type": "stream",
     "text": [
      "@ "
     ]
    },
    {
     "name": "stdout",
     "output_type": "stream",
     "text": [
      "@ "
     ]
    },
    {
     "name": "stdout",
     "output_type": "stream",
     "text": [
      "@ "
     ]
    },
    {
     "name": "stdout",
     "output_type": "stream",
     "text": [
      "@ "
     ]
    },
    {
     "name": "stdout",
     "output_type": "stream",
     "text": [
      "@ "
     ]
    },
    {
     "name": "stdout",
     "output_type": "stream",
     "text": [
      "@ "
     ]
    },
    {
     "name": "stdout",
     "output_type": "stream",
     "text": [
      "@ "
     ]
    },
    {
     "name": "stdout",
     "output_type": "stream",
     "text": [
      "@ "
     ]
    },
    {
     "name": "stdout",
     "output_type": "stream",
     "text": [
      "@ "
     ]
    },
    {
     "name": "stdout",
     "output_type": "stream",
     "text": [
      "@ "
     ]
    },
    {
     "name": "stdout",
     "output_type": "stream",
     "text": [
      "@ "
     ]
    },
    {
     "name": "stdout",
     "output_type": "stream",
     "text": [
      "@ "
     ]
    },
    {
     "name": "stdout",
     "output_type": "stream",
     "text": [
      "@ "
     ]
    },
    {
     "name": "stdout",
     "output_type": "stream",
     "text": [
      "@ "
     ]
    },
    {
     "name": "stdout",
     "output_type": "stream",
     "text": [
      "@ "
     ]
    },
    {
     "name": "stdout",
     "output_type": "stream",
     "text": [
      "@ "
     ]
    },
    {
     "name": "stdout",
     "output_type": "stream",
     "text": [
      "@ "
     ]
    },
    {
     "name": "stdout",
     "output_type": "stream",
     "text": [
      "@ "
     ]
    },
    {
     "name": "stdout",
     "output_type": "stream",
     "text": [
      "@ "
     ]
    },
    {
     "name": "stdout",
     "output_type": "stream",
     "text": [
      "@ "
     ]
    },
    {
     "name": "stdout",
     "output_type": "stream",
     "text": [
      "@ "
     ]
    },
    {
     "name": "stdout",
     "output_type": "stream",
     "text": [
      "@ "
     ]
    },
    {
     "name": "stdout",
     "output_type": "stream",
     "text": [
      "@ "
     ]
    },
    {
     "name": "stdout",
     "output_type": "stream",
     "text": [
      "@ "
     ]
    },
    {
     "name": "stdout",
     "output_type": "stream",
     "text": [
      "@ "
     ]
    },
    {
     "name": "stdout",
     "output_type": "stream",
     "text": [
      "@ "
     ]
    },
    {
     "name": "stdout",
     "output_type": "stream",
     "text": [
      "@ "
     ]
    },
    {
     "name": "stdout",
     "output_type": "stream",
     "text": [
      "@ "
     ]
    },
    {
     "name": "stdout",
     "output_type": "stream",
     "text": [
      "@ "
     ]
    },
    {
     "name": "stdout",
     "output_type": "stream",
     "text": [
      "@ "
     ]
    },
    {
     "name": "stdout",
     "output_type": "stream",
     "text": [
      "@ "
     ]
    },
    {
     "name": "stdout",
     "output_type": "stream",
     "text": [
      "@ "
     ]
    },
    {
     "name": "stdout",
     "output_type": "stream",
     "text": [
      "@ "
     ]
    },
    {
     "name": "stdout",
     "output_type": "stream",
     "text": [
      "@ "
     ]
    },
    {
     "name": "stdout",
     "output_type": "stream",
     "text": [
      "@ "
     ]
    },
    {
     "ename": "KeyboardInterrupt",
     "evalue": "",
     "traceback": [
      "\u001b[0;31m---------------------------------------------------------------------------\u001b[0m",
      "\u001b[0;31mKeyboardInterrupt\u001b[0m                         Traceback (most recent call last)",
      "\u001b[0;32m<ipython-input-8-5090bdb30e1d>\u001b[0m in \u001b[0;36m<module>\u001b[0;34m\u001b[0m\n\u001b[0;32m----> 1\u001b[0;31m \u001b[0mD\u001b[0m \u001b[0;34m=\u001b[0m \u001b[0mrun\u001b[0m\u001b[0;34m(\u001b[0m\u001b[0mD\u001b[0m\u001b[0;34m,\u001b[0m \u001b[0mcat\u001b[0m\u001b[0;34m,\u001b[0m \u001b[0mnum\u001b[0m\u001b[0;34m,\u001b[0m \u001b[0mmax_len\u001b[0m\u001b[0;34m,\u001b[0m \u001b[0mddict\u001b[0m\u001b[0;34m,\u001b[0m \u001b[0mall_docs\u001b[0m\u001b[0;34m)\u001b[0m\u001b[0;34m\u001b[0m\u001b[0;34m\u001b[0m\u001b[0m\n\u001b[0m",
      "\u001b[0;32m~/PycharmProjects/sci/gen_lda.py\u001b[0m in \u001b[0;36mrun\u001b[0;34m(D, cat, num, max_len, ddict, all_docs)\u001b[0m\n\u001b[1;32m     72\u001b[0m     \u001b[0mmin_el\u001b[0m \u001b[0;34m=\u001b[0m \u001b[0mmin\u001b[0m\u001b[0;34m(\u001b[0m\u001b[0msort_docs\u001b[0m\u001b[0;34m(\u001b[0m\u001b[0mcat\u001b[0m\u001b[0;34m[\u001b[0m\u001b[0mnum\u001b[0m\u001b[0;34m]\u001b[0m\u001b[0;34m,\u001b[0m \u001b[0mD\u001b[0m\u001b[0;34m)\u001b[0m\u001b[0;34m.\u001b[0m\u001b[0mitems\u001b[0m\u001b[0;34m(\u001b[0m\u001b[0;34m)\u001b[0m\u001b[0;34m,\u001b[0m \u001b[0mkey\u001b[0m\u001b[0;34m=\u001b[0m\u001b[0;32mlambda\u001b[0m \u001b[0mx\u001b[0m\u001b[0;34m:\u001b[0m \u001b[0mlen\u001b[0m\u001b[0;34m(\u001b[0m\u001b[0mx\u001b[0m\u001b[0;34m[\u001b[0m\u001b[0;36m1\u001b[0m\u001b[0;34m]\u001b[0m\u001b[0;34m)\u001b[0m\u001b[0;34m)\u001b[0m\u001b[0;34m\u001b[0m\u001b[0;34m\u001b[0m\u001b[0m\n\u001b[1;32m     73\u001b[0m     \u001b[0;32mwhile\u001b[0m \u001b[0mlen\u001b[0m\u001b[0;34m(\u001b[0m\u001b[0mmin_el\u001b[0m\u001b[0;34m[\u001b[0m\u001b[0;36m1\u001b[0m\u001b[0;34m]\u001b[0m\u001b[0;34m)\u001b[0m \u001b[0;34m<\u001b[0m \u001b[0mmax_len\u001b[0m\u001b[0;34m:\u001b[0m\u001b[0;34m\u001b[0m\u001b[0;34m\u001b[0m\u001b[0m\n\u001b[0;32m---> 74\u001b[0;31m         \u001b[0mD\u001b[0m \u001b[0;34m+=\u001b[0m \u001b[0mbalance_lda\u001b[0m\u001b[0;34m(\u001b[0m\u001b[0mddict\u001b[0m\u001b[0;34m,\u001b[0m \u001b[0mall_docs\u001b[0m\u001b[0;34m,\u001b[0m \u001b[0mmin_el\u001b[0m\u001b[0;34m[\u001b[0m\u001b[0;36m0\u001b[0m\u001b[0;34m]\u001b[0m\u001b[0;34m,\u001b[0m \u001b[0mD\u001b[0m\u001b[0;34m)\u001b[0m\u001b[0;34m\u001b[0m\u001b[0;34m\u001b[0m\u001b[0m\n\u001b[0m\u001b[1;32m     75\u001b[0m         \u001b[0mmin_el\u001b[0m \u001b[0;34m=\u001b[0m \u001b[0mmin\u001b[0m\u001b[0;34m(\u001b[0m\u001b[0msort_docs\u001b[0m\u001b[0;34m(\u001b[0m\u001b[0mcat\u001b[0m\u001b[0;34m[\u001b[0m\u001b[0mnum\u001b[0m\u001b[0;34m]\u001b[0m\u001b[0;34m,\u001b[0m \u001b[0mD\u001b[0m\u001b[0;34m)\u001b[0m\u001b[0;34m.\u001b[0m\u001b[0mitems\u001b[0m\u001b[0;34m(\u001b[0m\u001b[0;34m)\u001b[0m\u001b[0;34m,\u001b[0m \u001b[0mkey\u001b[0m\u001b[0;34m=\u001b[0m\u001b[0;32mlambda\u001b[0m \u001b[0mx\u001b[0m\u001b[0;34m:\u001b[0m \u001b[0mlen\u001b[0m\u001b[0;34m(\u001b[0m\u001b[0mx\u001b[0m\u001b[0;34m[\u001b[0m\u001b[0;36m1\u001b[0m\u001b[0;34m]\u001b[0m\u001b[0;34m)\u001b[0m\u001b[0;34m)\u001b[0m\u001b[0;34m\u001b[0m\u001b[0;34m\u001b[0m\u001b[0m\n\u001b[1;32m     76\u001b[0m         \u001b[0mprint\u001b[0m\u001b[0;34m(\u001b[0m\u001b[0;34m'@'\u001b[0m\u001b[0;34m,\u001b[0m \u001b[0mend\u001b[0m\u001b[0;34m=\u001b[0m\u001b[0;34m' '\u001b[0m\u001b[0;34m)\u001b[0m\u001b[0;34m\u001b[0m\u001b[0;34m\u001b[0m\u001b[0m\n",
      "\u001b[0;32m~/PycharmProjects/sci/gen_lda.py\u001b[0m in \u001b[0;36mbalance_lda\u001b[0;34m(ddict, all_docs, theme, D)\u001b[0m\n\u001b[1;32m     21\u001b[0m     \u001b[0mlen_real_cat\u001b[0m \u001b[0;34m=\u001b[0m \u001b[0;36m15\u001b[0m\u001b[0;34m\u001b[0m\u001b[0;34m\u001b[0m\u001b[0m\n\u001b[1;32m     22\u001b[0m     (matrix, vocab) = using_lda_no_changes_doc(ddict, len_real_cat, all_docs,\n\u001b[0;32m---> 23\u001b[0;31m                                                alpha, eta, tau0, kappa)\n\u001b[0m\u001b[1;32m     24\u001b[0m \u001b[0;34m\u001b[0m\u001b[0m\n\u001b[1;32m     25\u001b[0m     \u001b[0maverage\u001b[0m \u001b[0;34m=\u001b[0m \u001b[0;36m0\u001b[0m\u001b[0;34m\u001b[0m\u001b[0;34m\u001b[0m\u001b[0m\n",
      "\u001b[0;32m~/PycharmProjects/sci/_lda.py\u001b[0m in \u001b[0;36musing_lda_no_changes_doc\u001b[0;34m(vocab, K, D, alpha, eta, tau0, kappa)\u001b[0m\n\u001b[1;32m    128\u001b[0m         \u001b[0;31m# print(i)\u001b[0m\u001b[0;34m\u001b[0m\u001b[0;34m\u001b[0m\u001b[0;34m\u001b[0m\u001b[0m\n\u001b[1;32m    129\u001b[0m         \u001b[0md\u001b[0m \u001b[0;34m=\u001b[0m \u001b[0;34m[\u001b[0m\u001b[0md\u001b[0m \u001b[0;32mfor\u001b[0m \u001b[0md\u001b[0m \u001b[0;32min\u001b[0m \u001b[0mdocs\u001b[0m\u001b[0;34m[\u001b[0m\u001b[0;34m(\u001b[0m\u001b[0mi\u001b[0m \u001b[0;34m*\u001b[0m \u001b[0ms\u001b[0m\u001b[0;34m)\u001b[0m\u001b[0;34m:\u001b[0m\u001b[0;34m(\u001b[0m\u001b[0;34m(\u001b[0m\u001b[0mi\u001b[0m \u001b[0;34m+\u001b[0m \u001b[0;36m1\u001b[0m\u001b[0;34m)\u001b[0m \u001b[0;34m*\u001b[0m \u001b[0ms\u001b[0m\u001b[0;34m)\u001b[0m\u001b[0;34m]\u001b[0m\u001b[0;34m]\u001b[0m\u001b[0;34m\u001b[0m\u001b[0;34m\u001b[0m\u001b[0m\n\u001b[0;32m--> 130\u001b[0;31m         \u001b[0mmodel\u001b[0m\u001b[0;34m.\u001b[0m\u001b[0mupdate_lambda_docs\u001b[0m\u001b[0;34m(\u001b[0m\u001b[0md\u001b[0m\u001b[0;34m)\u001b[0m\u001b[0;34m\u001b[0m\u001b[0;34m\u001b[0m\u001b[0m\n\u001b[0m\u001b[1;32m    131\u001b[0m     \u001b[0md\u001b[0m \u001b[0;34m=\u001b[0m \u001b[0;34m[\u001b[0m\u001b[0md\u001b[0m \u001b[0;32mfor\u001b[0m \u001b[0md\u001b[0m \u001b[0;32min\u001b[0m \u001b[0mdocs\u001b[0m\u001b[0;34m[\u001b[0m\u001b[0;34m(\u001b[0m\u001b[0;34m(\u001b[0m\u001b[0mi\u001b[0m \u001b[0;34m+\u001b[0m \u001b[0;36m1\u001b[0m\u001b[0;34m)\u001b[0m \u001b[0;34m*\u001b[0m \u001b[0ms\u001b[0m\u001b[0;34m)\u001b[0m\u001b[0;34m:\u001b[0m\u001b[0mlen\u001b[0m\u001b[0;34m(\u001b[0m\u001b[0mdocs\u001b[0m\u001b[0;34m)\u001b[0m\u001b[0;34m]\u001b[0m\u001b[0;34m]\u001b[0m\u001b[0;34m\u001b[0m\u001b[0;34m\u001b[0m\u001b[0m\n\u001b[1;32m    132\u001b[0m     \u001b[0mmodel\u001b[0m\u001b[0;34m.\u001b[0m\u001b[0mupdate_lambda_docs\u001b[0m\u001b[0;34m(\u001b[0m\u001b[0md\u001b[0m\u001b[0;34m)\u001b[0m\u001b[0;34m\u001b[0m\u001b[0;34m\u001b[0m\u001b[0m\n",
      "\u001b[0;32m~/PycharmProjects/sci/lda/onlineldavb.py\u001b[0m in \u001b[0;36mupdate_lambda_docs\u001b[0;34m(self, docs)\u001b[0m\n\u001b[1;32m    291\u001b[0m         \u001b[0;34m(\u001b[0m\u001b[0mgamma\u001b[0m\u001b[0;34m,\u001b[0m \u001b[0msstats\u001b[0m\u001b[0;34m)\u001b[0m \u001b[0;34m=\u001b[0m \u001b[0mself\u001b[0m\u001b[0;34m.\u001b[0m\u001b[0mdo_e_step_docs\u001b[0m\u001b[0;34m(\u001b[0m\u001b[0mdocs\u001b[0m\u001b[0;34m)\u001b[0m\u001b[0;34m\u001b[0m\u001b[0;34m\u001b[0m\u001b[0m\n\u001b[1;32m    292\u001b[0m         \u001b[0;31m# Estimate held-out likelihood for current values of lambda.\u001b[0m\u001b[0;34m\u001b[0m\u001b[0;34m\u001b[0m\u001b[0;34m\u001b[0m\u001b[0m\n\u001b[0;32m--> 293\u001b[0;31m         \u001b[0mbound\u001b[0m \u001b[0;34m=\u001b[0m \u001b[0mself\u001b[0m\u001b[0;34m.\u001b[0m\u001b[0mapprox_bound_docs\u001b[0m\u001b[0;34m(\u001b[0m\u001b[0mdocs\u001b[0m\u001b[0;34m,\u001b[0m \u001b[0mgamma\u001b[0m\u001b[0;34m)\u001b[0m\u001b[0;34m\u001b[0m\u001b[0;34m\u001b[0m\u001b[0m\n\u001b[0m\u001b[1;32m    294\u001b[0m         \u001b[0;31m# Update lambda based on documents.\u001b[0m\u001b[0;34m\u001b[0m\u001b[0;34m\u001b[0m\u001b[0;34m\u001b[0m\u001b[0m\n\u001b[1;32m    295\u001b[0m         \u001b[0mself\u001b[0m\u001b[0;34m.\u001b[0m\u001b[0m_lambda\u001b[0m \u001b[0;34m=\u001b[0m \u001b[0mself\u001b[0m\u001b[0;34m.\u001b[0m\u001b[0m_lambda\u001b[0m \u001b[0;34m*\u001b[0m \u001b[0;34m(\u001b[0m\u001b[0;36m1\u001b[0m\u001b[0;34m-\u001b[0m\u001b[0mrhot\u001b[0m\u001b[0;34m)\u001b[0m \u001b[0;34m+\u001b[0m\u001b[0;31m \u001b[0m\u001b[0;31m\\\u001b[0m\u001b[0;34m\u001b[0m\u001b[0;34m\u001b[0m\u001b[0m\n",
      "\u001b[0;32m~/PycharmProjects/sci/lda/onlineldavb.py\u001b[0m in \u001b[0;36mapprox_bound_docs\u001b[0;34m(self, docs, gamma)\u001b[0m\n\u001b[1;32m    411\u001b[0m             \u001b[0mdocs\u001b[0m \u001b[0;34m=\u001b[0m \u001b[0mtemp\u001b[0m\u001b[0;34m\u001b[0m\u001b[0;34m\u001b[0m\u001b[0m\n\u001b[1;32m    412\u001b[0m \u001b[0;34m\u001b[0m\u001b[0m\n\u001b[0;32m--> 413\u001b[0;31m         \u001b[0;34m(\u001b[0m\u001b[0mwordids\u001b[0m\u001b[0;34m,\u001b[0m \u001b[0mwordcts\u001b[0m\u001b[0;34m)\u001b[0m \u001b[0;34m=\u001b[0m \u001b[0mparse_doc_list\u001b[0m\u001b[0;34m(\u001b[0m\u001b[0mdocs\u001b[0m\u001b[0;34m,\u001b[0m \u001b[0mself\u001b[0m\u001b[0;34m.\u001b[0m\u001b[0m_vocab\u001b[0m\u001b[0;34m)\u001b[0m\u001b[0;34m\u001b[0m\u001b[0;34m\u001b[0m\u001b[0m\n\u001b[0m\u001b[1;32m    414\u001b[0m         \u001b[0mbatchD\u001b[0m \u001b[0;34m=\u001b[0m \u001b[0mlen\u001b[0m\u001b[0;34m(\u001b[0m\u001b[0mdocs\u001b[0m\u001b[0;34m)\u001b[0m\u001b[0;34m\u001b[0m\u001b[0;34m\u001b[0m\u001b[0m\n\u001b[1;32m    415\u001b[0m \u001b[0;34m\u001b[0m\u001b[0m\n",
      "\u001b[0;32m~/PycharmProjects/sci/lda/onlineldavb.py\u001b[0m in \u001b[0;36mparse_doc_list\u001b[0;34m(docs, vocab)\u001b[0m\n\u001b[1;32m     71\u001b[0m         \u001b[0mdocs\u001b[0m\u001b[0;34m[\u001b[0m\u001b[0md\u001b[0m\u001b[0;34m]\u001b[0m \u001b[0;34m=\u001b[0m \u001b[0mre\u001b[0m\u001b[0;34m.\u001b[0m\u001b[0msub\u001b[0m\u001b[0;34m(\u001b[0m\u001b[0;34mr'-'\u001b[0m\u001b[0;34m,\u001b[0m \u001b[0;34m' '\u001b[0m\u001b[0;34m,\u001b[0m \u001b[0mdocs\u001b[0m\u001b[0;34m[\u001b[0m\u001b[0md\u001b[0m\u001b[0;34m]\u001b[0m\u001b[0;34m)\u001b[0m\u001b[0;34m\u001b[0m\u001b[0;34m\u001b[0m\u001b[0m\n\u001b[1;32m     72\u001b[0m         \u001b[0mdocs\u001b[0m\u001b[0;34m[\u001b[0m\u001b[0md\u001b[0m\u001b[0;34m]\u001b[0m \u001b[0;34m=\u001b[0m \u001b[0mre\u001b[0m\u001b[0;34m.\u001b[0m\u001b[0msub\u001b[0m\u001b[0;34m(\u001b[0m\u001b[0;34mr'[^a-z ]'\u001b[0m\u001b[0;34m,\u001b[0m \u001b[0;34m''\u001b[0m\u001b[0;34m,\u001b[0m \u001b[0mdocs\u001b[0m\u001b[0;34m[\u001b[0m\u001b[0md\u001b[0m\u001b[0;34m]\u001b[0m\u001b[0;34m)\u001b[0m\u001b[0;34m\u001b[0m\u001b[0;34m\u001b[0m\u001b[0m\n\u001b[0;32m---> 73\u001b[0;31m         \u001b[0mdocs\u001b[0m\u001b[0;34m[\u001b[0m\u001b[0md\u001b[0m\u001b[0;34m]\u001b[0m \u001b[0;34m=\u001b[0m \u001b[0mre\u001b[0m\u001b[0;34m.\u001b[0m\u001b[0msub\u001b[0m\u001b[0;34m(\u001b[0m\u001b[0;34mr' +'\u001b[0m\u001b[0;34m,\u001b[0m \u001b[0;34m' '\u001b[0m\u001b[0;34m,\u001b[0m \u001b[0mdocs\u001b[0m\u001b[0;34m[\u001b[0m\u001b[0md\u001b[0m\u001b[0;34m]\u001b[0m\u001b[0;34m)\u001b[0m\u001b[0;34m\u001b[0m\u001b[0;34m\u001b[0m\u001b[0m\n\u001b[0m\u001b[1;32m     74\u001b[0m         \u001b[0mwords\u001b[0m \u001b[0;34m=\u001b[0m \u001b[0mdocs\u001b[0m\u001b[0;34m[\u001b[0m\u001b[0md\u001b[0m\u001b[0;34m]\u001b[0m\u001b[0;34m.\u001b[0m\u001b[0msplit\u001b[0m\u001b[0;34m(\u001b[0m\u001b[0;34m)\u001b[0m\u001b[0;34m\u001b[0m\u001b[0;34m\u001b[0m\u001b[0m\n\u001b[1;32m     75\u001b[0m         \u001b[0mddict\u001b[0m \u001b[0;34m=\u001b[0m \u001b[0mdict\u001b[0m\u001b[0;34m(\u001b[0m\u001b[0;34m)\u001b[0m\u001b[0;34m\u001b[0m\u001b[0;34m\u001b[0m\u001b[0m\n",
      "\u001b[0;32m/anaconda3/lib/python3.7/re.py\u001b[0m in \u001b[0;36msub\u001b[0;34m(pattern, repl, string, count, flags)\u001b[0m\n\u001b[1;32m    190\u001b[0m     \u001b[0ma\u001b[0m \u001b[0mcallable\u001b[0m\u001b[0;34m,\u001b[0m \u001b[0mit\u001b[0m\u001b[0;31m'\u001b[0m\u001b[0ms\u001b[0m \u001b[0mpassed\u001b[0m \u001b[0mthe\u001b[0m \u001b[0mMatch\u001b[0m \u001b[0mobject\u001b[0m \u001b[0;32mand\u001b[0m \u001b[0mmust\u001b[0m \u001b[0;32mreturn\u001b[0m\u001b[0;34m\u001b[0m\u001b[0;34m\u001b[0m\u001b[0m\n\u001b[1;32m    191\u001b[0m     a replacement string to be used.\"\"\"\n\u001b[0;32m--> 192\u001b[0;31m     \u001b[0;32mreturn\u001b[0m \u001b[0m_compile\u001b[0m\u001b[0;34m(\u001b[0m\u001b[0mpattern\u001b[0m\u001b[0;34m,\u001b[0m \u001b[0mflags\u001b[0m\u001b[0;34m)\u001b[0m\u001b[0;34m.\u001b[0m\u001b[0msub\u001b[0m\u001b[0;34m(\u001b[0m\u001b[0mrepl\u001b[0m\u001b[0;34m,\u001b[0m \u001b[0mstring\u001b[0m\u001b[0;34m,\u001b[0m \u001b[0mcount\u001b[0m\u001b[0;34m)\u001b[0m\u001b[0;34m\u001b[0m\u001b[0;34m\u001b[0m\u001b[0m\n\u001b[0m\u001b[1;32m    193\u001b[0m \u001b[0;34m\u001b[0m\u001b[0m\n\u001b[1;32m    194\u001b[0m \u001b[0;32mdef\u001b[0m \u001b[0msubn\u001b[0m\u001b[0;34m(\u001b[0m\u001b[0mpattern\u001b[0m\u001b[0;34m,\u001b[0m \u001b[0mrepl\u001b[0m\u001b[0;34m,\u001b[0m \u001b[0mstring\u001b[0m\u001b[0;34m,\u001b[0m \u001b[0mcount\u001b[0m\u001b[0;34m=\u001b[0m\u001b[0;36m0\u001b[0m\u001b[0;34m,\u001b[0m \u001b[0mflags\u001b[0m\u001b[0;34m=\u001b[0m\u001b[0;36m0\u001b[0m\u001b[0;34m)\u001b[0m\u001b[0;34m:\u001b[0m\u001b[0;34m\u001b[0m\u001b[0;34m\u001b[0m\u001b[0m\n",
      "\u001b[0;31mKeyboardInterrupt\u001b[0m: "
     ],
     "output_type": "error"
    }
   ],
   "source": [
    "D = run(D, cat, num, max_len, ddict, all_docs)"
   ]
  },
  {
   "cell_type": "code",
   "execution_count": 3,
   "metadata": {},
   "outputs": [],
   "source": [
    "print('длины классов после:', end=' ')\n",
    "print(sorted(count_docs(cat[num], D).items(), key=lambda kv: -kv[1]))\n",
    "print('классификатор на основе Online LDA (после):', end=' ')\n",
    "print(estimate(online_lda_clf(ddict, D, all_docs, test), test))\n",
    "clf_2 = NB.naive_Bayes(C)\n",
    "train = NB.convert_sgml(D)\n",
    "clf_2.fit(train[0], train[1])\n",
    "print('Наивный Байесовский классификатор (после):', end=' ')\n",
    "print(estimate_single(clf_2.predict(test), test))"
   ]
  },
  {
   "cell_type": "code",
   "execution_count": null,
   "metadata": {},
   "outputs": [],
   "source": []
  }
 ],
 "metadata": {
  "kernelspec": {
   "display_name": "Python 2",
   "language": "python",
   "name": "python2"
  },
  "language_info": {
   "codemirror_mode": {
    "name": "ipython",
    "version": 2
   },
   "file_extension": ".py",
   "mimetype": "text/x-python",
   "name": "python",
   "nbconvert_exporter": "python",
   "pygments_lexer": "ipython2",
   "version": "2.7.6"
  }
 },
 "nbformat": 4,
 "nbformat_minor": 0
}
